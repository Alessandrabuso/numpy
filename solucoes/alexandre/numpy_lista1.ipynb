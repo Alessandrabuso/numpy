{
 "cells": [
  {
   "cell_type": "markdown",
   "metadata": {},
   "source": [
    "## Crie um vetor nulo de tamanho 10."
   ]
  },
  {
   "cell_type": "code",
   "execution_count": 15,
   "metadata": {},
   "outputs": [],
   "source": [
    "import numpy as np"
   ]
  },
  {
   "cell_type": "code",
   "execution_count": 16,
   "metadata": {},
   "outputs": [
    {
     "name": "stdout",
     "output_type": "stream",
     "text": [
      "Vetor nulo de tamanho 10:\n",
      "[6.92480604e-310 4.66888190e-310 6.92480623e-310 6.92480620e-310\n",
      " 6.92480620e-310 6.92480478e-310 6.92480622e-310 6.92477839e-310\n",
      " 6.92480624e-310 6.92480624e-310]\n"
     ]
    }
   ],
   "source": [
    "a = np.empty(10)\n",
    "print('Vetor nulo de tamanho 10:')\n",
    "print(a)"
   ]
  },
  {
   "cell_type": "markdown",
   "metadata": {},
   "source": [
    "## Como encontrar o tamanho da memória de qualquer matriz."
   ]
  },
  {
   "cell_type": "code",
   "execution_count": 17,
   "metadata": {},
   "outputs": [
    {
     "name": "stdout",
     "output_type": "stream",
     "text": [
      "Criação da matriz: \n",
      "[[0 1 2]\n",
      " [3 4 5]\n",
      " [6 7 8]]\n"
     ]
    }
   ],
   "source": [
    "print('Criação da matriz: ')\n",
    "m = np.arange(9).reshape((3,3))\n",
    "print(m)"
   ]
  },
  {
   "cell_type": "code",
   "execution_count": 18,
   "metadata": {},
   "outputs": [
    {
     "name": "stdout",
     "output_type": "stream",
     "text": [
      "Forma 1: comando nbytes\n"
     ]
    },
    {
     "data": {
      "text/plain": [
       "72"
      ]
     },
     "execution_count": 18,
     "metadata": {},
     "output_type": "execute_result"
    }
   ],
   "source": [
    "print('Forma 1: comando nbytes')\n",
    "m.nbytes"
   ]
  },
  {
   "cell_type": "code",
   "execution_count": 19,
   "metadata": {},
   "outputs": [
    {
     "name": "stdout",
     "output_type": "stream",
     "text": [
      "Forma 2: multiplicação do tamanho de cada item pelo tamanho da matriz\n",
      "72 bytes\n"
     ]
    }
   ],
   "source": [
    "print('Forma 2: multiplicação do tamanho de cada item pelo tamanho da matriz')\n",
    "print('%d bytes' % (m.size * m.itemsize))"
   ]
  },
  {
   "cell_type": "markdown",
   "metadata": {},
   "source": [
    "## Crie um vetor nulo de tamanho 10, mas o quinto valor, que é 1."
   ]
  },
  {
   "cell_type": "code",
   "execution_count": 20,
   "metadata": {
    "scrolled": true
   },
   "outputs": [
    {
     "name": "stdout",
     "output_type": "stream",
     "text": [
      "[6.92480604e-310 4.66888190e-310 6.92480623e-310 6.92480620e-310\n",
      " 6.92480620e-310 6.92480478e-310 6.92480622e-310 6.92477839e-310\n",
      " 6.92480624e-310 6.92480624e-310]\n",
      "[6.92480604e-310 4.66888190e-310 6.92480623e-310 6.92480620e-310\n",
      " 1.00000000e+000 6.92480478e-310 6.92480622e-310 6.92477839e-310\n",
      " 6.92480624e-310 6.92480624e-310]\n"
     ]
    }
   ],
   "source": [
    "a = np.empty(10)  # Cria um vetor nulo de tamanho 10\n",
    "print(a)\n",
    "a[4] = 1  # Atribui 1 ao quinto item do vetor\n",
    "print(a)"
   ]
  },
  {
   "cell_type": "markdown",
   "metadata": {},
   "source": [
    "## Crie um vetor com valores que variam de 10 a 49."
   ]
  },
  {
   "cell_type": "code",
   "execution_count": 22,
   "metadata": {},
   "outputs": [
    {
     "name": "stdout",
     "output_type": "stream",
     "text": [
      "Vetor com valores entre 10 e 49\n",
      "[10 11 12 13 14 15 16 17 18 19 20 21 22 23 24 25 26 27 28 29 30 31 32 33\n",
      " 34 35 36 37 38 39 40 41 42 43 44 45 46 47 48]\n"
     ]
    }
   ],
   "source": [
    "print('Vetor com valores entre 10 e 49')\n",
    "a = np.arange(10, 49)\n",
    "print(a)"
   ]
  },
  {
   "cell_type": "markdown",
   "metadata": {},
   "source": [
    "## Inverter um vetor (o primeiro elemento se torna o último)."
   ]
  },
  {
   "cell_type": "code",
   "execution_count": 28,
   "metadata": {},
   "outputs": [
    {
     "name": "stdout",
     "output_type": "stream",
     "text": [
      "Vetor:\n",
      "[0 1 2 3 4]\n",
      "Vetor invertido:\n",
      "[4 3 2 1 0]\n"
     ]
    }
   ],
   "source": [
    "a = np.arange(5)\n",
    "b = np.flip(a)\n",
    "print('Vetor:')\n",
    "print(a)\n",
    "print('Vetor invertido:')\n",
    "print(b)"
   ]
  },
  {
   "cell_type": "markdown",
   "metadata": {},
   "source": [
    "## Crie uma matriz 3x3 com valores que variam de 0 a 8."
   ]
  },
  {
   "cell_type": "code",
   "execution_count": 30,
   "metadata": {},
   "outputs": [
    {
     "name": "stdout",
     "output_type": "stream",
     "text": [
      "[[0 1 2]\n",
      " [3 4 5]\n",
      " [6 7 8]]\n"
     ]
    }
   ],
   "source": [
    "a = np.arange(9).reshape((3,3))\n",
    "print(a)"
   ]
  },
  {
   "cell_type": "markdown",
   "metadata": {},
   "source": [
    "## Crie uma matriz de identidade 3x3."
   ]
  },
  {
   "cell_type": "code",
   "execution_count": 31,
   "metadata": {},
   "outputs": [
    {
     "name": "stdout",
     "output_type": "stream",
     "text": [
      "[[1. 0. 0.]\n",
      " [0. 1. 0.]\n",
      " [0. 0. 1.]]\n"
     ]
    }
   ],
   "source": [
    "a = np.eye(3)\n",
    "print(a)"
   ]
  },
  {
   "cell_type": "markdown",
   "metadata": {},
   "source": [
    "## Crie uma matriz 3x3x3 com valores aleatórios."
   ]
  },
  {
   "cell_type": "code",
   "execution_count": 34,
   "metadata": {},
   "outputs": [
    {
     "name": "stdout",
     "output_type": "stream",
     "text": [
      "[[[0.2610087  0.43714291 0.01078698]\n",
      "  [0.57017144 0.54558611 0.8759669 ]\n",
      "  [0.77227099 0.39371944 0.7425898 ]]\n",
      "\n",
      " [[0.7830928  0.79356033 0.54243017]\n",
      "  [0.89574742 0.36593353 0.51289319]\n",
      "  [0.69016887 0.55160657 0.92896053]]\n",
      "\n",
      " [[0.96442137 0.71214167 0.3018807 ]\n",
      "  [0.23435296 0.18954081 0.30886908]\n",
      "  [0.24425691 0.90781582 0.53092791]]]\n"
     ]
    }
   ],
   "source": [
    "a = np.random.random((3, 3, 3))\n",
    "print(a)"
   ]
  },
  {
   "cell_type": "markdown",
   "metadata": {},
   "source": [
    "## Crie uma matriz 10x10 com valores aleatórios e encontre os valores mínimo e máximo."
   ]
  },
  {
   "cell_type": "code",
   "execution_count": 39,
   "metadata": {},
   "outputs": [
    {
     "name": "stdout",
     "output_type": "stream",
     "text": [
      "Matriz:\n",
      "[[0.23484569 0.86164944 0.893006   0.59526989 0.44649681 0.16063151\n",
      "  0.42412388 0.24229561 0.44749397 0.09776326]\n",
      " [0.72440202 0.5949773  0.35842282 0.40352458 0.92747204 0.94800992\n",
      "  0.29918608 0.79171029 0.20124942 0.81924259]\n",
      " [0.7006438  0.3626408  0.08225412 0.34179316 0.67557981 0.29560755\n",
      "  0.63794658 0.81911705 0.57560921 0.61812002]\n",
      " [0.03768613 0.25874423 0.21938571 0.19667005 0.04045102 0.33376112\n",
      "  0.19720555 0.05208563 0.49109649 0.99169527]\n",
      " [0.95856028 0.22039841 0.44466132 0.05089035 0.45738224 0.67730522\n",
      "  0.60287601 0.91535851 0.49192364 0.87316845]\n",
      " [0.35363867 0.94330812 0.11111054 0.11961067 0.83248328 0.82448359\n",
      "  0.69710622 0.33717439 0.32992672 0.20858805]\n",
      " [0.78346849 0.88598311 0.14394691 0.08960189 0.53171892 0.41412201\n",
      "  0.94434781 0.51421219 0.40352573 0.93787958]\n",
      " [0.06883066 0.43387052 0.6455076  0.07606482 0.18040799 0.7808715\n",
      "  0.41851644 0.34398961 0.84938248 0.24940067]\n",
      " [0.72012986 0.99101707 0.15355871 0.35711523 0.31899679 0.29928045\n",
      "  0.12353806 0.34849691 0.26780647 0.31438259]\n",
      " [0.49845091 0.21805301 0.68268586 0.35482648 0.19126756 0.16993707\n",
      "  0.11448994 0.94324064 0.92253719 0.15736623]]\n",
      "Valor máximo:  0.9916952661782534\n",
      "Valor mínimo:  0.03768613089908235\n"
     ]
    }
   ],
   "source": [
    "a = np.random.random((10, 10))\n",
    "vmax = np.max(a)\n",
    "vmin = np.min(a)\n",
    "print('Matriz:')\n",
    "print(a)\n",
    "print('Valor máximo: ', vmax)\n",
    "print('Valor mínimo: ', vmin)"
   ]
  },
  {
   "cell_type": "markdown",
   "metadata": {},
   "source": [
    "## Crie um vetor aleatório de tamanho 30 e encontre o valor médio."
   ]
  },
  {
   "cell_type": "code",
   "execution_count": 44,
   "metadata": {},
   "outputs": [
    {
     "name": "stdout",
     "output_type": "stream",
     "text": [
      "Matriz: \n",
      "[0.27753214 0.48058058 0.35027754 0.52672105 0.52869746 0.65639542\n",
      " 0.68432054 0.15993173 0.76256951 0.35611535 0.95063599 0.13396131\n",
      " 0.22427272 0.58894908 0.34414271 0.68909117 0.7902005  0.38788416\n",
      " 0.42494854 0.13799718 0.31861988 0.39855109 0.61504138 0.33441194\n",
      " 0.99368461 0.04228271 0.6112295  0.66862464 0.90384152 0.30333946]\n",
      "\n",
      "\n",
      "Média dos valores do vetor:  0.4881617145470824\n"
     ]
    }
   ],
   "source": [
    "a = np.random.random(30)\n",
    "meanv = np.mean(a)\n",
    "print('Matriz: ')\n",
    "print(a)\n",
    "print('\\n')\n",
    "print('Média dos valores do vetor: ', meanv)"
   ]
  },
  {
   "cell_type": "markdown",
   "metadata": {},
   "source": [
    "## Crie uma matriz 2D com 1 na borda e 0 dentro."
   ]
  },
  {
   "cell_type": "code",
   "execution_count": 34,
   "metadata": {},
   "outputs": [
    {
     "name": "stdout",
     "output_type": "stream",
     "text": [
      "[[1. 1. 1. 1. 1. 1. 1. 1. 1. 1.]\n",
      " [1. 0. 0. 0. 0. 0. 0. 0. 0. 1.]\n",
      " [1. 0. 0. 0. 0. 0. 0. 0. 0. 1.]\n",
      " [1. 0. 0. 0. 0. 0. 0. 0. 0. 1.]\n",
      " [1. 0. 0. 0. 0. 0. 0. 0. 0. 1.]\n",
      " [1. 0. 0. 0. 0. 0. 0. 0. 0. 1.]\n",
      " [1. 0. 0. 0. 0. 0. 0. 0. 0. 1.]\n",
      " [1. 0. 0. 0. 0. 0. 0. 0. 0. 1.]\n",
      " [1. 0. 0. 0. 0. 0. 0. 0. 0. 1.]\n",
      " [1. 1. 1. 1. 1. 1. 1. 1. 1. 1.]]\n"
     ]
    }
   ],
   "source": [
    "linhas = 10  # Número de linhas da matriz\n",
    "colunas = 10  # Número de colunas da matriz\n",
    "m = np.zeros((linhas,colunas))  # Cria uma matriz de zeros\n",
    "m[0,:] = 1  # Atribui 1 as bordas da matriz\n",
    "m[:,0] = 1\n",
    "m[-1,:] = 1\n",
    "m[:,-1] = 1\n",
    "print(m)"
   ]
  },
  {
   "cell_type": "markdown",
   "metadata": {},
   "source": [
    "## Crie uma matriz 5x5 com valores 1,2,3,4 logo abaixo da diagonal."
   ]
  },
  {
   "cell_type": "code",
   "execution_count": 29,
   "metadata": {},
   "outputs": [
    {
     "name": "stdout",
     "output_type": "stream",
     "text": [
      "[[0. 0. 0. 0. 0.]\n",
      " [0. 0. 0. 0. 0.]\n",
      " [0. 0. 0. 0. 0.]\n",
      " [0. 0. 0. 0. 0.]\n",
      " [0. 0. 0. 0. 0.]]\n",
      "[[0. 0. 0. 0. 0.]\n",
      " [0. 0. 0. 0. 0.]\n",
      " [0. 0. 0. 0. 0.]\n",
      " [0. 0. 0. 0. 0.]]\n",
      "[[1. 0. 0. 0. 0.]\n",
      " [0. 2. 0. 0. 0.]\n",
      " [0. 0. 3. 0. 0.]\n",
      " [0. 0. 0. 4. 0.]]\n",
      "[[0. 0. 0. 0. 0.]\n",
      " [1. 0. 0. 0. 0.]\n",
      " [0. 2. 0. 0. 0.]\n",
      " [0. 0. 3. 0. 0.]\n",
      " [0. 0. 0. 4. 0.]]\n"
     ]
    }
   ],
   "source": [
    "m = np.zeros((5,5))\n",
    "m1 = m[1:, 0:]\n",
    "print(m)\n",
    "print(m1)\n",
    "np.fill_diagonal(m1, np.arange(1,5))\n",
    "print(m1)\n",
    "print(m)"
   ]
  },
  {
   "cell_type": "markdown",
   "metadata": {},
   "source": [
    "## Crie uma matriz estruturada representando uma posição (x, y) e uma cor (r, g, b)."
   ]
  },
  {
   "cell_type": "code",
   "execution_count": 37,
   "metadata": {},
   "outputs": [
    {
     "name": "stdout",
     "output_type": "stream",
     "text": [
      "[[[235 126 114]\n",
      "  [ 10 241 167]\n",
      "  [253 246 164]\n",
      "  ...\n",
      "  [144 125  32]\n",
      "  [  4 253  46]\n",
      "  [110 142 243]]\n",
      "\n",
      " [[180   8  66]\n",
      "  [120 204 135]\n",
      "  [110 173 188]\n",
      "  ...\n",
      "  [146 130 201]\n",
      "  [ 72 109 168]\n",
      "  [221 207  18]]\n",
      "\n",
      " [[ 30 100 152]\n",
      "  [107 216 241]\n",
      "  [ 79 213   7]\n",
      "  ...\n",
      "  [150  96 121]\n",
      "  [206 201 169]\n",
      "  [217  35 216]]\n",
      "\n",
      " ...\n",
      "\n",
      " [[219 155  87]\n",
      "  [161  66 242]\n",
      "  [132 189  16]\n",
      "  ...\n",
      "  [241  88 227]\n",
      "  [ 21 254 212]\n",
      "  [ 59 163 204]]\n",
      "\n",
      " [[134  48 217]\n",
      "  [135 127 212]\n",
      "  [121  80  76]\n",
      "  ...\n",
      "  [132   7  53]\n",
      "  [200 191  94]\n",
      "  [172 137 249]]\n",
      "\n",
      " [[ 96 124 209]\n",
      "  [197 189 227]\n",
      "  [163 224 230]\n",
      "  ...\n",
      "  [122  50 105]\n",
      "  [126 219 254]\n",
      "  [ 67 229  23]]]\n"
     ]
    }
   ],
   "source": [
    "from PIL import Image\n",
    "\n",
    "W = 500  # Número de linhas da matriz\n",
    "h = 300  # Número de colunas da matriz\n",
    "data = np.random.randint(0, 256, [h,w,3])  # Cria uma matriz  linhas x colunas, onde cada célula\n",
    "print(data)                                # representa um pixel RGB de cor aleatória\n",
    "img = Image.fromarray(data, 'RGB')  # Transforma a matriz em uma imagem\n",
    "img.save('my.png')\n",
    "img.show()"
   ]
  },
  {
   "cell_type": "markdown",
   "metadata": {},
   "source": [
    "## Subtrair a média de cada linha de uma matriz."
   ]
  },
  {
   "cell_type": "code",
   "execution_count": 96,
   "metadata": {},
   "outputs": [
    {
     "name": "stdout",
     "output_type": "stream",
     "text": [
      "Matriz:\n",
      "[[3 2 2]\n",
      " [1 4 3]\n",
      " [2 1 0]]\n",
      "\n",
      "\n",
      "Média de cada linha da matriz: \n",
      "[2.33333333 2.66666667 1.        ]\n",
      "\n",
      "\n",
      "Média de todos itens da matriz: \n",
      "2.0\n",
      "\n",
      "\n",
      "Matriz com cada a média subtraída de cada item:\n",
      "[[ 1.  0.  0.]\n",
      " [-1.  2.  1.]\n",
      " [ 0. -1. -2.]]\n"
     ]
    }
   ],
   "source": [
    "m = np.random.randint(0,5,(3,3))\n",
    "print('Matriz:')\n",
    "print(m)\n",
    "print('\\n')\n",
    "print('Média de cada linha da matriz: ')\n",
    "print(np.average(m, axis=1))\n",
    "print('\\n')\n",
    "print('Média de todos itens da matriz: ')\n",
    "print(np.average(m))\n",
    "print('\\n')\n",
    "print('Matriz com cada a média subtraída de cada item:')\n",
    "print(m-np.average(m))"
   ]
  },
  {
   "cell_type": "markdown",
   "metadata": {},
   "source": [
    "## Como encontrar o valor mais frequente em uma matriz?"
   ]
  },
  {
   "cell_type": "code",
   "execution_count": 120,
   "metadata": {},
   "outputs": [
    {
     "name": "stdout",
     "output_type": "stream",
     "text": [
      "Matriz:\n",
      "[0 1 0 0 1 1 2 0 0]\n",
      "Elemento mais frequente da matriz:\n",
      "0\n"
     ]
    }
   ],
   "source": [
    "m = np.random.randint(0,3,(3,3))\n",
    "m = np.ravel(m)\n",
    "counts = np.bincount(m)\n",
    "print('Matriz:')\n",
    "print(m)\n",
    "print('Elemento mais frequente da matriz:')\n",
    "print(np.argmax(counts))"
   ]
  },
  {
   "cell_type": "markdown",
   "metadata": {},
   "source": [
    "## Crie uma matriz a partir de um arquivo."
   ]
  },
  {
   "cell_type": "code",
   "execution_count": 109,
   "metadata": {},
   "outputs": [
    {
     "data": {
      "text/plain": [
       "array([[4., 1., 7.],\n",
       "       [9., 9., 1.],\n",
       "       [9., 7., 5.]])"
      ]
     },
     "execution_count": 109,
     "metadata": {},
     "output_type": "execute_result"
    }
   ],
   "source": [
    "np.loadtxt('mymatrix')  # O arquivo deve estar na mesma pasta\n",
    "                        # ou o caminho do arquivo pode ser apontado."
   ]
  },
  {
   "cell_type": "markdown",
   "metadata": {},
   "source": [
    "## Crie uma matriz com valores aletaórios e salve para um arquivo."
   ]
  },
  {
   "cell_type": "code",
   "execution_count": 20,
   "metadata": {},
   "outputs": [],
   "source": [
    "linhas = 3\n",
    "colunas = 3\n",
    "m = np.random.randint(0,10,(linhas,colunas))\n",
    "np.savetxt('mymatrix', m)"
   ]
  },
  {
   "cell_type": "code",
   "execution_count": 21,
   "metadata": {},
   "outputs": [
    {
     "data": {
      "text/plain": [
       "array([[[ 0,  1,  2],\n",
       "        [ 3,  4,  5],\n",
       "        [ 6,  7,  8]],\n",
       "\n",
       "       [[ 9, 10, 11],\n",
       "        [12, 13, 14],\n",
       "        [15, 16, 17]],\n",
       "\n",
       "       [[18, 19, 20],\n",
       "        [21, 22, 23],\n",
       "        [24, 25, 26]]])"
      ]
     },
     "execution_count": 21,
     "metadata": {},
     "output_type": "execute_result"
    }
   ],
   "source": [
    "np.arange(27).reshape(3,3,3)"
   ]
  },
  {
   "cell_type": "code",
   "execution_count": null,
   "metadata": {},
   "outputs": [],
   "source": []
  }
 ],
 "metadata": {
  "kernelspec": {
   "display_name": "Python [conda env:python_practice] *",
   "language": "python",
   "name": "conda-env-python_practice-py"
  },
  "language_info": {
   "codemirror_mode": {
    "name": "ipython",
    "version": 3
   },
   "file_extension": ".py",
   "mimetype": "text/x-python",
   "name": "python",
   "nbconvert_exporter": "python",
   "pygments_lexer": "ipython3",
   "version": "3.7.4"
  }
 },
 "nbformat": 4,
 "nbformat_minor": 2
}
