{
 "cells": [
  {
   "cell_type": "markdown",
   "metadata": {},
   "source": [
    "# Atividades"
   ]
  },
  {
   "cell_type": "markdown",
   "metadata": {},
   "source": [
    "### Crie um array com 10 elementos usando a função arange."
   ]
  },
  {
   "cell_type": "code",
   "execution_count": 5,
   "metadata": {},
   "outputs": [
    {
     "name": "stdout",
     "output_type": "stream",
     "text": [
      "[0 1 2 3 4 5 6 7 8 9]\n"
     ]
    }
   ],
   "source": [
    "import numpy as np\n",
    "a = np.arange(10)\n",
    "print(a)"
   ]
  },
  {
   "cell_type": "code",
   "execution_count": 4,
   "metadata": {},
   "outputs": [
    {
     "data": {
      "text/plain": [
       "array([ 0, 10, 20, 30, 40, 50, 60, 70, 80, 90])"
      ]
     },
     "execution_count": 4,
     "metadata": {},
     "output_type": "execute_result"
    }
   ],
   "source": [
    "np.arange(0, 100, 10)"
   ]
  },
  {
   "cell_type": "markdown",
   "metadata": {},
   "source": [
    "### Transforme esse array de 1D (1x10) para 2D (2x5) usando a função reshape."
   ]
  },
  {
   "cell_type": "code",
   "execution_count": 12,
   "metadata": {},
   "outputs": [
    {
     "name": "stdout",
     "output_type": "stream",
     "text": [
      "ndarray: \n",
      "[0 1 2 3 4 5 6 7 8 9]\n",
      "reshaped ndarray: \n",
      "[[0 1 2 3 4]\n",
      " [5 6 7 8 9]]\n"
     ]
    }
   ],
   "source": [
    "a = np.arange(10)\n",
    "print(\"ndarray: \")\n",
    "print(a)\n",
    "\n",
    "a = a.reshape(2,5)\n",
    "print(\"reshaped ndarray: \")\n",
    "print(a)"
   ]
  },
  {
   "cell_type": "markdown",
   "metadata": {},
   "source": [
    "### Crie duas matrizes bidimensionais com valores aleatórios."
   ]
  },
  {
   "cell_type": "code",
   "execution_count": 19,
   "metadata": {},
   "outputs": [
    {
     "name": "stdout",
     "output_type": "stream",
     "text": [
      "random matrix:\n",
      "[[0.61391865]\n",
      " [0.79353655]]\n"
     ]
    }
   ],
   "source": [
    "a = np.random.random((2, 1))\n",
    "print(\"random matrix:\")\n",
    "print(a)"
   ]
  },
  {
   "cell_type": "code",
   "execution_count": 22,
   "metadata": {},
   "outputs": [
    {
     "name": "stdout",
     "output_type": "stream",
     "text": [
      "random matrix:\n",
      "[[0.69466313 0.03692139 0.50769743]\n",
      " [0.58867483 0.25060766 0.08793431]]\n"
     ]
    }
   ],
   "source": [
    "a = np.random.random((2, 3))\n",
    "print(\"random matrix:\")\n",
    "print(a)"
   ]
  },
  {
   "cell_type": "markdown",
   "metadata": {},
   "source": [
    "### Calcule a transposta de cada matriz."
   ]
  },
  {
   "cell_type": "code",
   "execution_count": 25,
   "metadata": {},
   "outputs": [
    {
     "name": "stdout",
     "output_type": "stream",
     "text": [
      "Original matrix:\n",
      "[[2.36440279 2.64361246 7.08685859]\n",
      " [6.59399905 9.9743376  3.40088008]]\n"
     ]
    }
   ],
   "source": [
    "a = np.random.random((2,3))*10\n",
    "print(\"Original matrix:\")\n",
    "print(a)"
   ]
  },
  {
   "cell_type": "code",
   "execution_count": 26,
   "metadata": {},
   "outputs": [
    {
     "name": "stdout",
     "output_type": "stream",
     "text": [
      "Transposed matrix:\n",
      "[[2.36440279 6.59399905]\n",
      " [2.64361246 9.9743376 ]\n",
      " [7.08685859 3.40088008]]\n"
     ]
    }
   ],
   "source": [
    "b = a.transpose()\n",
    "print(\"Transposed matrix:\")\n",
    "print(a)"
   ]
  },
  {
   "cell_type": "markdown",
   "metadata": {},
   "source": [
    "### Multiplique as duas matrizes."
   ]
  },
  {
   "cell_type": "code",
   "execution_count": 29,
   "metadata": {},
   "outputs": [
    {
     "name": "stdout",
     "output_type": "stream",
     "text": [
      "Matrix 1:\n",
      "[[5.4333946  3.69094621 8.41953334]\n",
      " [1.84995799 8.17121117 0.06062745]]\n",
      "Matrix 2:\n",
      "[[5.4333946  1.84995799]\n",
      " [3.69094621 8.17121117]\n",
      " [8.41953334 0.06062745]]\n",
      "Multiplicação dos arquivos:\n",
      "[[114.03340258  40.72150747]\n",
      " [ 40.72150747  70.19471229]]\n"
     ]
    }
   ],
   "source": [
    "a = np.random.random((2,3))*10\n",
    "b = a.transpose()\n",
    "print(\"Matrix 1:\")\n",
    "print(a)\n",
    "print(\"Matrix 2:\")\n",
    "print(b)\n",
    "c = np.dot(a, b)\n",
    "print(\"Multiplicação dos arquivos:\")\n",
    "print(c)"
   ]
  },
  {
   "cell_type": "markdown",
   "metadata": {},
   "source": [
    "### Salve as matrizes de entrada e a de saída em arquivos. Qual o tamanho dos arquivos gerados?"
   ]
  },
  {
   "cell_type": "code",
   "execution_count": 40,
   "metadata": {},
   "outputs": [],
   "source": [
    "a = np.random.random((2,3))*10\n",
    "b = a.transpose()\n",
    "np.savetxt(\"entrada1\", a)\n",
    "np.savetxt(\"entrada2\", b)\n",
    "c = np.dot(a, b)\n",
    "np.savetxt(\"saida\", c)\n"
   ]
  },
  {
   "cell_type": "code",
   "execution_count": 45,
   "metadata": {},
   "outputs": [
    {
     "data": {
      "text/plain": [
       "array([[ 99.77238004,  76.34352681],\n",
       "       [ 76.34352681, 108.57051602]])"
      ]
     },
     "execution_count": 45,
     "metadata": {},
     "output_type": "execute_result"
    }
   ],
   "source": [
    "np.loadtxt(\"saida\")"
   ]
  },
  {
   "cell_type": "markdown",
   "metadata": {},
   "source": [
    "### Crie duas bidimensionais matrizes com valores aleatórios e gere uma única matriz combinando linha a linha."
   ]
  },
  {
   "cell_type": "code",
   "execution_count": 58,
   "metadata": {},
   "outputs": [
    {
     "name": "stdout",
     "output_type": "stream",
     "text": [
      "Matrix 1:\n",
      "[[0.13185446]\n",
      " [0.25427326]]\n",
      "Matrix 2:\n",
      "[[0.41705465 0.95406143]\n",
      " [0.48831718 0.3356299 ]]\n"
     ]
    },
    {
     "data": {
      "text/plain": [
       "array([[0.13185446, 0.41705465, 0.95406143],\n",
       "       [0.25427326, 0.48831718, 0.3356299 ]])"
      ]
     },
     "execution_count": 58,
     "metadata": {},
     "output_type": "execute_result"
    }
   ],
   "source": [
    "a = np.random.random((2,1))\n",
    "print(\"Matrix 1:\")\n",
    "print(a)\n",
    "b = np.random.random((2,2))\n",
    "print(\"Matrix 2:\")\n",
    "print(b)\n",
    "np.concatenate((a,b), axis=1)"
   ]
  },
  {
   "cell_type": "code",
   "execution_count": null,
   "metadata": {},
   "outputs": [],
   "source": []
  }
 ],
 "metadata": {
  "kernelspec": {
   "display_name": "Python [conda env:python_practice] *",
   "language": "python",
   "name": "conda-env-python_practice-py"
  },
  "language_info": {
   "codemirror_mode": {
    "name": "ipython",
    "version": 3
   },
   "file_extension": ".py",
   "mimetype": "text/x-python",
   "name": "python",
   "nbconvert_exporter": "python",
   "pygments_lexer": "ipython3",
   "version": "3.7.4"
  }
 },
 "nbformat": 4,
 "nbformat_minor": 2
}
