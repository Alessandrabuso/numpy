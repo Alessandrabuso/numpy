{
 "cells": [
  {
   "cell_type": "code",
   "execution_count": 1,
   "metadata": {},
   "outputs": [
    {
     "name": "stdout",
     "output_type": "stream",
     "text": [
      "[0. 0. 0. 0. 0. 0. 0. 0. 0. 0.]\n",
      "[0. 0. 0. 0. 0. 0. 0. 0. 0. 0.]\n"
     ]
    }
   ],
   "source": [
    "# Lista de Atividades numoy - Rafael Loni Martins\n",
    "\n",
    "\n",
    "\n",
    "import numpy as np\n",
    "\n",
    "\n",
    "# Crie um vetor nulo de tamanho 10\n",
    "v1 = np.zeros(10)\n",
    "print(v1)\n",
    "\n",
    "v11 = np.empty(10)\n",
    "print(v11)\n",
    "\n"
   ]
  },
  {
   "cell_type": "code",
   "execution_count": 2,
   "metadata": {},
   "outputs": [
    {
     "data": {
      "text/plain": [
       "dtype('float64')"
      ]
     },
     "execution_count": 2,
     "metadata": {},
     "output_type": "execute_result"
    }
   ],
   "source": [
    "# Como encontrar o tamanho da memória de qualquer matriz\n",
    "v1.dtype"
   ]
  },
  {
   "cell_type": "code",
   "execution_count": 3,
   "metadata": {},
   "outputs": [
    {
     "name": "stdout",
     "output_type": "stream",
     "text": [
      "[0. 0. 0. 0. 1. 0. 0. 0. 0. 0.]\n"
     ]
    }
   ],
   "source": [
    "# Crie um vetor nulo de tamanho 10, mas o quinto valor, que é 1\n",
    "v2 = np.zeros(10)\n",
    "v2[4] = 1\n",
    "print(v2)"
   ]
  },
  {
   "cell_type": "code",
   "execution_count": 4,
   "metadata": {},
   "outputs": [
    {
     "name": "stdout",
     "output_type": "stream",
     "text": [
      "[10 11 12 13 14 15 16 17 18 19 20 21 22 23 24 25 26 27 28 29 30 31 32 33\n",
      " 34 35 36 37 38 39 40 41 42 43 44 45 46 47 48]\n",
      "[10.   10.85 11.7  12.55 13.4  14.25 15.1  15.95 16.8  17.65 18.5  19.35\n",
      " 20.2  21.05 21.9  22.75 23.6  24.45 25.3  26.15 27.   27.85 28.7  29.55\n",
      " 30.4  31.25 32.1  32.95 33.8  34.65 35.5  36.35 37.2  38.05 38.9  39.75\n",
      " 40.6  41.45 42.3  43.15 44.   44.85 45.7  46.55 47.4  48.25]\n"
     ]
    }
   ],
   "source": [
    "# Crie um vetor com valores que variam de 10 a 49\n",
    "v3 = np.arange(10,49)\n",
    "print(v3)\n",
    "\n",
    "v4 = np.arange(10,49,0.85)\n",
    "print(v4)"
   ]
  },
  {
   "cell_type": "code",
   "execution_count": 64,
   "metadata": {},
   "outputs": [
    {
     "name": "stdout",
     "output_type": "stream",
     "text": [
      "[48 47 46 45 44 43 42 41 40 39 38 37 36 35 34 33 32 31 30 29 28 27 26 25\n",
      " 24 23 22 21 20 19 18 17 16 15 14 13 12 11 10]\n"
     ]
    }
   ],
   "source": [
    "# Inverter um vetor (o primeiro elemento se torna o último)\n",
    "v5 = np.flip(v3)\n",
    "print(v5)"
   ]
  },
  {
   "cell_type": "code",
   "execution_count": 66,
   "metadata": {},
   "outputs": [
    {
     "name": "stdout",
     "output_type": "stream",
     "text": [
      "[[5 4 0]\n",
      " [4 2 5]\n",
      " [3 1 1]]\n"
     ]
    }
   ],
   "source": [
    "# Crie uma matriz 3x3 com valores que variam de 0 a 8\n",
    "# (limite inferior, limite superior, tamanho)\n",
    "M3x3 = np.random.randint(0,8,(3,3))\n",
    "print(M3x3)"
   ]
  },
  {
   "cell_type": "code",
   "execution_count": 67,
   "metadata": {},
   "outputs": [
    {
     "name": "stdout",
     "output_type": "stream",
     "text": [
      "[[1. 0. 0.]\n",
      " [0. 1. 0.]\n",
      " [0. 0. 1.]]\n"
     ]
    }
   ],
   "source": [
    "# Crie uma matriz de identidade 3x3\n",
    "I3 = np.identity(3)\n",
    "print(I3)"
   ]
  },
  {
   "cell_type": "code",
   "execution_count": 73,
   "metadata": {},
   "outputs": [
    {
     "name": "stdout",
     "output_type": "stream",
     "text": [
      "[[0.46174786 0.8402241  0.24688889]\n",
      " [0.03436031 0.01919375 0.74517401]\n",
      " [0.07861994 0.17171855 0.99749897]]\n",
      "[[63 82 87]\n",
      " [ 8 78  7]\n",
      " [53 43 87]]\n"
     ]
    }
   ],
   "source": [
    "# Crie uma matriz 3x3x3 com valores aleatórios\n",
    "M3x3r = np.random.random((3,3))\n",
    "print(M3x3r)\n",
    "\n",
    "M3x3r2 = np.random.randint(0,100,(3,3))\n",
    "print(M3x3r2)\n"
   ]
  },
  {
   "cell_type": "code",
   "execution_count": 78,
   "metadata": {},
   "outputs": [
    {
     "name": "stdout",
     "output_type": "stream",
     "text": [
      "[[19 10 79  9 29 25 41 95 60 43]\n",
      " [82 51 99  9 70 62 38 99 24 86]\n",
      " [88  0 19 60 82 96 71 62 49 75]\n",
      " [44 15 95 70 81 50 52 68 62 88]\n",
      " [53  1  3 19  4 15 61 15 90 23]\n",
      " [70 18 86 31 96  8 32  8  6  5]\n",
      " [26 13 55 25  5 91 30 84 36 18]\n",
      " [70 63 14 42 18 88 78 37 64 82]\n",
      " [80 93 47 88 20 33 62 81  9 81]\n",
      " [ 7 57 93 61 93  6 73 84 75 82]]\n",
      "0\n",
      "99\n"
     ]
    }
   ],
   "source": [
    "# Crie uma matriz 10x10 com valores aleatórios e encontre os valores mínimo e máximo\n",
    "M10x10 = np.random.randint(0,100,(10,10))\n",
    "print(M10x10)\n",
    "print(np.min(M10x10))\n",
    "print(np.max(M10x10))\n"
   ]
  },
  {
   "cell_type": "code",
   "execution_count": 80,
   "metadata": {},
   "outputs": [
    {
     "name": "stdout",
     "output_type": "stream",
     "text": [
      "[0.99053415 0.39450003 0.87057638 0.60195719 0.48387076 0.80299243\n",
      " 0.53182424 0.09399995 0.14925391 0.99644464 0.51038089 0.5987941\n",
      " 0.14896078 0.10613214 0.96394962 0.13607078 0.94479466 0.24596297\n",
      " 0.64135571 0.19066826 0.64785066 0.05347837 0.64660283 0.74918341\n",
      " 0.11175107 0.9614964  0.28594243 0.05524597 0.516761   0.49713144]\n",
      "0.4976155732869783\n"
     ]
    }
   ],
   "source": [
    "# Crie um vetor aleatório de tamanho 30 e encontre o valor médio\n",
    "V30 = np.random.random(30)\n",
    "print(V30)\n",
    "print(np.mean(V30))"
   ]
  },
  {
   "cell_type": "code",
   "execution_count": 120,
   "metadata": {},
   "outputs": [
    {
     "name": "stdout",
     "output_type": "stream",
     "text": [
      "[[1. 1. 1. 1. 1. 1. 1. 1. 1. 1.]\n",
      " [1. 0. 0. 0. 0. 0. 0. 0. 0. 1.]\n",
      " [1. 0. 0. 0. 0. 0. 0. 0. 0. 1.]\n",
      " [1. 0. 0. 0. 0. 0. 0. 0. 0. 1.]\n",
      " [1. 0. 0. 0. 0. 0. 0. 0. 0. 1.]\n",
      " [1. 0. 0. 0. 0. 0. 0. 0. 0. 1.]\n",
      " [1. 0. 0. 0. 0. 0. 0. 0. 0. 1.]\n",
      " [1. 0. 0. 0. 0. 0. 0. 0. 0. 1.]\n",
      " [1. 0. 0. 0. 0. 0. 0. 0. 0. 1.]\n",
      " [1. 1. 1. 1. 1. 1. 1. 1. 1. 1.]]\n"
     ]
    }
   ],
   "source": [
    "# Crie uma matriz 2D com 1 na borda e 0 dentro\n",
    "M101 = np.zeros((10,10))\n",
    "M101[0] = 1\n",
    "M101[9] = 1\n",
    "np.transpose(M101)[0] = 1\n",
    "np.transpose(M101)[9] = 1\n",
    "print(M101)"
   ]
  },
  {
   "cell_type": "code",
   "execution_count": 117,
   "metadata": {},
   "outputs": [
    {
     "name": "stdout",
     "output_type": "stream",
     "text": [
      "[[1. 0. 0. 0. 0.]\n",
      " [1. 1. 0. 0. 0.]\n",
      " [0. 2. 1. 0. 0.]\n",
      " [0. 0. 3. 1. 0.]\n",
      " [0. 0. 0. 4. 1.]]\n"
     ]
    }
   ],
   "source": [
    "# Crie uma matriz 5x5 com valores 1,2,3,4 logo abaixo da diagonal\n",
    "M5x5 = np.identity(5)\n",
    "M5x5[1][0] = 1\n",
    "M5x5[2][1] = 2\n",
    "M5x5[3][2] = 3\n",
    "M5x5[4][3] = 4\n",
    "print(M5x5)\n"
   ]
  },
  {
   "cell_type": "code",
   "execution_count": 5,
   "metadata": {},
   "outputs": [
    {
     "name": "stdout",
     "output_type": "stream",
     "text": [
      "[[[255 255 255]\n",
      "  [255 255 255]\n",
      "  [255 255 255]\n",
      "  ...\n",
      "  [255 255 255]\n",
      "  [255 255 255]\n",
      "  [255 255 255]]\n",
      "\n",
      " [[255 255 255]\n",
      "  [  1   1   1]\n",
      "  [  1   1   1]\n",
      "  ...\n",
      "  [  1   1   1]\n",
      "  [  1   1   1]\n",
      "  [  1   1   1]]\n",
      "\n",
      " [[255 255 255]\n",
      "  [  1   1   1]\n",
      "  [  1   1   1]\n",
      "  ...\n",
      "  [  1   1   1]\n",
      "  [  1   1   1]\n",
      "  [  1   1   1]]\n",
      "\n",
      " ...\n",
      "\n",
      " [[255 255 255]\n",
      "  [  1   1   1]\n",
      "  [  1   1   1]\n",
      "  ...\n",
      "  [  1   1   1]\n",
      "  [  1   1   1]\n",
      "  [  1   1   1]]\n",
      "\n",
      " [[255 255 255]\n",
      "  [  1   1   1]\n",
      "  [  1   1   1]\n",
      "  ...\n",
      "  [  1   1   1]\n",
      "  [  1   1   1]\n",
      "  [  1   1   1]]\n",
      "\n",
      " [[255 255 255]\n",
      "  [  1   1   1]\n",
      "  [  1   1   1]\n",
      "  ...\n",
      "  [  1   1   1]\n",
      "  [  1   1   1]\n",
      "  [  1   1   1]]]\n"
     ]
    }
   ],
   "source": [
    "# Crie uma matriz estruturada representando uma posição (x, y) e uma cor (r, g, b)\n",
    "\n",
    "Mrgb2= np.full((800,1200,3),1)\n",
    "#Mrgb2[::-50] = 150\n",
    "#np.transpose(Mrgb2)[::-50] = 150\n",
    "#Mrgb2[100:500:-10] = 220\n",
    "#Mrgb2[50:-50] = 255\n",
    "count = 0.01\n",
    "for i in range(0,800,1):\n",
    "    for j in range(0,1200,100):\n",
    "        for k in range(3):\n",
    "            Mrgb2[i][j][k] = 255\n",
    "for i in range(0,800,100):\n",
    "    for j in range(0,1200,1):\n",
    "        for k in range(3):\n",
    "            Mrgb2[i][j][k] = 255\n",
    "\n",
    "\n",
    "\n",
    "from PIL import Image\n",
    "img = Image.fromarray(Mrgb2.astype(\"uint8\"), \"RGB\")\n",
    "img.show()\n",
    "\n",
    "\n",
    "\n",
    "array = np.zeros([100, 200, 4], dtype=np.uint8)\n",
    "array[:,:100] = [255, 128, 0, 255] #Orange left side\n",
    "array[:,100:] = [0, 0, 255, 255]   #Blue right side\n",
    "\n",
    "# Set transparency depending on x position\n",
    "for x in range(200):\n",
    "    for y in range(100):\n",
    "        array[y, x, 3] = x\n",
    "img2 = Image.fromarray(array)\n",
    "#img2.show()\n",
    "\n",
    "\n",
    "\n",
    "print(Mrgb2)\n"
   ]
  },
  {
   "cell_type": "code",
   "execution_count": 148,
   "metadata": {},
   "outputs": [
    {
     "name": "stdout",
     "output_type": "stream",
     "text": [
      "[[17 63 90 35 93]\n",
      " [ 6 85 74  6 19]\n",
      " [16 36 29 30 83]\n",
      " [70 20 55 79 92]\n",
      " [10 48 37 93 53]]\n",
      "49.56\n",
      "[[-32.56  13.44  40.44 -14.56  43.44]\n",
      " [-43.56  35.44  24.44 -43.56 -30.56]\n",
      " [-33.56 -13.56 -20.56 -19.56  33.44]\n",
      " [ 20.44 -29.56   5.44  29.44  42.44]\n",
      " [-39.56  -1.56 -12.56  43.44   3.44]]\n"
     ]
    }
   ],
   "source": [
    "# Subtrair a média de cada linha de uma matriz\n",
    "\n",
    "Mmean = np.random.randint(0,100,(5,5))\n",
    "print(Mmean)\n",
    "print(np.mean(Mmean))\n",
    "print(Mmean - np.mean(Mmean))\n"
   ]
  },
  {
   "cell_type": "code",
   "execution_count": 167,
   "metadata": {},
   "outputs": [
    {
     "name": "stdout",
     "output_type": "stream",
     "text": [
      "[2 3 4 0 4 2 2 4 4 2]\n",
      "[1 0 4 1 4]\n",
      "2\n"
     ]
    }
   ],
   "source": [
    "#Como encontrar o valor mais frequente em uma matriz?\n",
    "\n",
    "\n",
    "Mmoda = np.random.randint(0,5,10)\n",
    "print(Mmoda)\n",
    "counts = np.bincount(Mmoda)\n",
    "print(counts)\n",
    "print (np.argmax(counts))\n",
    "\n"
   ]
  },
  {
   "cell_type": "code",
   "execution_count": 11,
   "metadata": {},
   "outputs": [
    {
     "name": "stdout",
     "output_type": "stream",
     "text": [
      "[[1. 0. 2. 3. 4. 5.]\n",
      " [4. 5. 6. 4. 6. 4.]\n",
      " [0. 1. 2. 3. 4. 5.]]\n"
     ]
    }
   ],
   "source": [
    "# Crie uma matriz a partir de um arquivo\n",
    "\n",
    "m = np.genfromtxt(\"matriz4numpy.csv\",delimiter= \"\",skip_header = 0)\n",
    "print(m)\n",
    "\n"
   ]
  },
  {
   "cell_type": "code",
   "execution_count": 165,
   "metadata": {},
   "outputs": [
    {
     "name": "stdout",
     "output_type": "stream",
     "text": [
      "[[0.3299225  0.4189563  0.44465936 0.84307875 0.70662768]\n",
      " [0.08972459 0.64451701 0.3692802  0.53033778 0.32545261]\n",
      " [0.60791454 0.17679351 0.16809512 0.33882473 0.71570218]\n",
      " [0.46434941 0.2785511  0.43741404 0.47291065 0.84982346]\n",
      " [0.77416769 0.27132589 0.76084419 0.03087972 0.12221698]]\n"
     ]
    }
   ],
   "source": [
    "# crie uma matriz com valores aletaórios e salve para um arquivo\n",
    "\n",
    "Mrand = np.random.random((5,5))\n",
    "print(Mrand)\n",
    "\n",
    "np.savetxt(\"matrizaleatorio5x5\", Mrand)\n",
    "\n"
   ]
  },
  {
   "cell_type": "code",
   "execution_count": null,
   "metadata": {},
   "outputs": [],
   "source": []
  },
  {
   "cell_type": "code",
   "execution_count": null,
   "metadata": {},
   "outputs": [],
   "source": []
  },
  {
   "cell_type": "code",
   "execution_count": null,
   "metadata": {},
   "outputs": [],
   "source": []
  },
  {
   "cell_type": "code",
   "execution_count": null,
   "metadata": {},
   "outputs": [],
   "source": []
  },
  {
   "cell_type": "code",
   "execution_count": 17,
   "metadata": {},
   "outputs": [
    {
     "name": "stdout",
     "output_type": "stream",
     "text": [
      "[ 1 11 21 31 41 51 61 71 81 91]\n"
     ]
    }
   ],
   "source": [
    "# Crie um array com 10 elementos usando a função arange\n",
    "\n",
    "import numpy as np\n",
    "array01 = np.arange(1,100,10)\n",
    "print(array01)\n"
   ]
  },
  {
   "cell_type": "code",
   "execution_count": 18,
   "metadata": {},
   "outputs": [
    {
     "name": "stdout",
     "output_type": "stream",
     "text": [
      "[[ 1 11 21 31 41]\n",
      " [51 61 71 81 91]]\n"
     ]
    }
   ],
   "source": [
    "# Transforme esse array de 1D (1x10) para 2D (2x5) usando a função reshape\n",
    "array02 = array01.reshape(2,5)\n",
    "print(array02)\n"
   ]
  },
  {
   "cell_type": "code",
   "execution_count": 20,
   "metadata": {},
   "outputs": [
    {
     "name": "stdout",
     "output_type": "stream",
     "text": [
      "[[0.18439726 0.60145788 0.76103057 0.26117975 0.16596743]\n",
      " [0.1934855  0.88194251 0.42899209 0.61406538 0.12125765]\n",
      " [0.26286914 0.35206822 0.51432184 0.79254517 0.07033352]\n",
      " [0.30662552 0.72532641 0.11148412 0.6868573  0.0077481 ]\n",
      " [0.08638749 0.65687718 0.29646951 0.32551462 0.87489226]]\n",
      "[[0.89766925 0.45718085 0.38935088 0.41012472 0.58701804]\n",
      " [0.47281806 0.7228685  0.45328358 0.61210375 0.14920839]\n",
      " [0.59185471 0.21282792 0.66492009 0.47976005 0.0277207 ]\n",
      " [0.31078787 0.47453645 0.92625968 0.17332406 0.87991011]\n",
      " [0.36738776 0.29579136 0.20973681 0.10508031 0.22442479]]\n"
     ]
    }
   ],
   "source": [
    "# Crie duas matrizes bidimensionais com valores aleatórios\n",
    "m1 = np.random.random((5,5))\n",
    "m2 = np.random.random((5,5))\n",
    "print(m1)\n",
    "print(m2)"
   ]
  },
  {
   "cell_type": "code",
   "execution_count": 21,
   "metadata": {},
   "outputs": [
    {
     "name": "stdout",
     "output_type": "stream",
     "text": [
      "[[0.18439726 0.1934855  0.26286914 0.30662552 0.08638749]\n",
      " [0.60145788 0.88194251 0.35206822 0.72532641 0.65687718]\n",
      " [0.76103057 0.42899209 0.51432184 0.11148412 0.29646951]\n",
      " [0.26117975 0.61406538 0.79254517 0.6868573  0.32551462]\n",
      " [0.16596743 0.12125765 0.07033352 0.0077481  0.87489226]]\n",
      "[[0.89766925 0.47281806 0.59185471 0.31078787 0.36738776]\n",
      " [0.45718085 0.7228685  0.21282792 0.47453645 0.29579136]\n",
      " [0.38935088 0.45328358 0.66492009 0.92625968 0.20973681]\n",
      " [0.41012472 0.61210375 0.47976005 0.17332406 0.10508031]\n",
      " [0.58701804 0.14920839 0.0277207  0.87991011 0.22442479]]\n"
     ]
    }
   ],
   "source": [
    "# calcule a transposta de cada matriz\n",
    "\n",
    "print(np.transpose(m1))\n",
    "print(np.transpose(m2))\n"
   ]
  },
  {
   "cell_type": "code",
   "execution_count": 26,
   "metadata": {},
   "outputs": [
    {
     "name": "stdout",
     "output_type": "stream",
     "text": [
      "[[1.04247333 0.85407745 1.12718048 0.87160121 0.48614529]\n",
      " [1.07997798 1.1445512  1.35456546 0.94418088 0.82460023]\n",
      " [0.97899066 0.88103544 1.35277216 0.7148203  0.93425092]\n",
      " [0.90049161 1.01645652 1.16012478 0.74307843 0.89742146]\n",
      " [0.98618837 0.99068164 1.01352339 0.72809433 0.63971206]]\n"
     ]
    }
   ],
   "source": [
    "# multiplique as duas matrizes\n",
    "\n",
    "Mprod = np.dot(m1,m2)\n",
    "print(Mprod)"
   ]
  },
  {
   "cell_type": "code",
   "execution_count": 39,
   "metadata": {},
   "outputs": [
    {
     "name": "stdout",
     "output_type": "stream",
     "text": [
      "[[1.04247333 0.85407745 1.12718048 0.87160121 0.48614529]\n",
      " [1.07997798 1.1445512  1.35456546 0.94418088 0.82460023]\n",
      " [0.97899066 0.88103544 1.35277216 0.7148203  0.93425092]\n",
      " [0.90049161 1.01645652 1.16012478 0.74307843 0.89742146]\n",
      " [0.98618837 0.99068164 1.01352339 0.72809433 0.63971206]]\n"
     ]
    }
   ],
   "source": [
    "# Salve as matrizes de entrada e a de saída em arquivos. Qual o tamanho dos arquivos gerados?\n",
    "np.save(\"m1T\", np.transpose(m1))\n",
    "np.save(\"m2T\", np.transpose(m2))\n",
    "np.save(\"prodm1m2\", Mprod)\n",
    "\n",
    "np.savetxt(\"prodm1m2\", Mprod)\n",
    "\n",
    "\n",
    "AA = np.loadtxt(\"prodm1m2\")\n",
    "print(AA)"
   ]
  },
  {
   "cell_type": "code",
   "execution_count": 44,
   "metadata": {},
   "outputs": [
    {
     "name": "stdout",
     "output_type": "stream",
     "text": [
      "[[0.26604553 0.14509708 0.95193781]\n",
      " [0.93106344 0.11450207 0.63144916]\n",
      " [0.29086591 0.52955083 0.55725123]\n",
      " [0.0628444  0.20233814 0.11742526]\n",
      " [0.09973558 0.52223712 0.77049028]\n",
      " [0.10844291 0.72172176 0.28230432]\n",
      " [0.62629961 0.04373182 0.92417003]]\n",
      "[[0.44402484 0.73113497 0.88735496]\n",
      " [0.92331892 0.04783282 0.23329386]\n",
      " [0.79894906 0.06352008 0.20747816]\n",
      " [0.17378501 0.76516795 0.34302997]\n",
      " [0.55369917 0.11033943 0.76062103]\n",
      " [0.551406   0.76724493 0.66955407]\n",
      " [0.83401719 0.5591425  0.78634011]]\n",
      "[[0.26604553 0.14509708 0.95193781 0.44402484 0.73113497 0.88735496]\n",
      " [0.93106344 0.11450207 0.63144916 0.92331892 0.04783282 0.23329386]\n",
      " [0.29086591 0.52955083 0.55725123 0.79894906 0.06352008 0.20747816]\n",
      " [0.0628444  0.20233814 0.11742526 0.17378501 0.76516795 0.34302997]\n",
      " [0.09973558 0.52223712 0.77049028 0.55369917 0.11033943 0.76062103]\n",
      " [0.10844291 0.72172176 0.28230432 0.551406   0.76724493 0.66955407]\n",
      " [0.62629961 0.04373182 0.92417003 0.83401719 0.5591425  0.78634011]]\n"
     ]
    }
   ],
   "source": [
    "# Crie duas bidimensionais matrizes com valores aleatórios e gere uma única matriz combinando linha a linha\n",
    "\n",
    "m3 = np.random.random((7,3))\n",
    "m4 = np.random.random((7,3))\n",
    "print(m3)\n",
    "print(m4)\n",
    "m3m4 = np.concatenate((m3,m4),1)\n",
    "print(m3m4)"
   ]
  },
  {
   "cell_type": "code",
   "execution_count": 37,
   "metadata": {},
   "outputs": [
    {
     "name": "stdout",
     "output_type": "stream",
     "text": [
      "[[1.04247333 0.85407745 1.12718048 0.87160121 0.48614529]\n",
      " [1.07997798 1.1445512  1.35456546 0.94418088 0.82460023]\n",
      " [0.97899066 0.88103544 1.35277216 0.7148203  0.93425092]\n",
      " [0.90049161 1.01645652 1.16012478 0.74307843 0.89742146]\n",
      " [0.98618837 0.99068164 1.01352339 0.72809433 0.63971206]]\n"
     ]
    }
   ],
   "source": [
    "BB = np.loadtxt(\"prodm1m2\")\n",
    "print(BB)"
   ]
  },
  {
   "cell_type": "code",
   "execution_count": null,
   "metadata": {},
   "outputs": [],
   "source": []
  }
 ],
 "metadata": {
  "kernelspec": {
   "display_name": "Python [conda env:AI2_activity] *",
   "language": "python",
   "name": "conda-env-AI2_activity-py"
  },
  "language_info": {
   "codemirror_mode": {
    "name": "ipython",
    "version": 3
   },
   "file_extension": ".py",
   "mimetype": "text/x-python",
   "name": "python",
   "nbconvert_exporter": "python",
   "pygments_lexer": "ipython3",
   "version": "3.7.4"
  }
 },
 "nbformat": 4,
 "nbformat_minor": 2
}
