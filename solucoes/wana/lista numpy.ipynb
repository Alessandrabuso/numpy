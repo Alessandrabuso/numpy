{
 "cells": [
  {
   "cell_type": "markdown",
   "metadata": {},
   "source": [
    "### Exercícios:\n",
    "\n",
    "   * Crie um array com 10 elementos usando a função arange\n",
    "\n",
    "   * Transforme esse array de 1D (1x10) para 2D (2x5) usando a função reshape\n",
    "\n",
    "   * Crie duas matrizes bidimensionais com valores aleatórios\n",
    "\n",
    "   * calcule a transposta de cada matriz\n",
    "\n",
    "   * multiplique as duas matrizes\n",
    "\n",
    "   * Salve as matrizes de entrada e a de saída em arquivos. Qual o tamanho dos arquivos gerados?\n",
    "\n",
    "   *  Crie duas bidimensionais matrizes com valores aleatórios e gere uma única matriz combinando linha a linh"
   ]
  },
  {
   "cell_type": "code",
   "execution_count": 5,
   "metadata": {},
   "outputs": [],
   "source": [
    "import numpy as np"
   ]
  },
  {
   "cell_type": "code",
   "execution_count": 45,
   "metadata": {},
   "outputs": [
    {
     "name": "stdout",
     "output_type": "stream",
     "text": [
      "[0 1 2 3 4 5 6 7 8 9]\n"
     ]
    }
   ],
   "source": [
    "#Crie um array com 10 elementos usando a função arange\n",
    "\n",
    "array = np.array(range(10))\n",
    "print(array)"
   ]
  },
  {
   "cell_type": "code",
   "execution_count": 46,
   "metadata": {},
   "outputs": [
    {
     "name": "stdout",
     "output_type": "stream",
     "text": [
      "[[0 1 2 3 4]\n",
      " [5 6 7 8 9]]\n"
     ]
    }
   ],
   "source": [
    "#Transforme esse array de 1D (1x10) para 2D (2x5) usando a função reshape\n",
    "\n",
    "array = np.array(range(10))\n",
    "print(array.reshape(2,5))"
   ]
  },
  {
   "cell_type": "code",
   "execution_count": 65,
   "metadata": {},
   "outputs": [
    {
     "name": "stdout",
     "output_type": "stream",
     "text": [
      "transposta1\n",
      "[[3 1]\n",
      " [4 2]]\n",
      "[[3 4]\n",
      " [1 2]]\n",
      "transposta2\n",
      "[[3 1]\n",
      " [2 2]]\n",
      "[[3 2]\n",
      " [1 2]]\n",
      "multiplique as duas matrizes\n",
      "[[9 1]\n",
      " [8 4]]\n"
     ]
    }
   ],
   "source": [
    "#Crie duas matrizes bidimensionais com valores aleatórios\n",
    "m1 = np.random.randint(1,5,(2,2))\n",
    "m2 = np.random.randint(1,5,(2,2))\n",
    "\n",
    "# calcule a transposta de cada matriz\n",
    "t1 = m1.T\n",
    "t2 = m2.T\n",
    "print('transposta1')\n",
    "print(m1)\n",
    "print(t1)\n",
    "print('transposta2')\n",
    "print(m2)\n",
    "print(t2)\n",
    "\n",
    "#multiplique as duas matrizes\n",
    "print('multiplique as duas matrizes')\n",
    "print (np.multiply(m1,m2))\n"
   ]
  },
  {
   "cell_type": "code",
   "execution_count": null,
   "metadata": {},
   "outputs": [],
   "source": []
  },
  {
   "cell_type": "code",
   "execution_count": 100,
   "metadata": {},
   "outputs": [
    {
     "name": "stdout",
     "output_type": "stream",
     "text": [
      "done writing\n",
      "done writing\n",
      "done writing\n",
      "mat1\r\n",
      "3 4\r\n",
      "2 2\r\n",
      "\r\n",
      "mat2\r\n",
      "2 3\r\n",
      "3 2\r\n",
      "\r\n",
      "outup\r\n",
      "6 12\r\n",
      "6 4\r\n",
      "\r\n"
     ]
    }
   ],
   "source": [
    "#Salve as matrizes de entrada e a de saída em arquivos. Qual o tamanho dos arquivos gerados?\n",
    "m1 = np.random.randint(1,5,(2,2))\n",
    "m2 = np.random.randint(1,5,(2,2))\n",
    "\n",
    "out = np.multiply(m1,m2)\n",
    "def write(file, m, name):\n",
    "    with open(file, 'a') as f:\n",
    "        f.write('%s\\n'%name)\n",
    "        np.savetxt(f, m, fmt='%.0f')\n",
    "        f.write('\\n')\n",
    "        \n",
    "    print('done writing')\n",
    "write('text.txt', m1, 'mat1')\n",
    "write('text.txt', m2, 'mat2')\n",
    "\n",
    "write('text.txt', out, 'outup')\n",
    "!cat 'text.txt'"
   ]
  },
  {
   "cell_type": "code",
   "execution_count": 123,
   "metadata": {
    "scrolled": true
   },
   "outputs": [
    {
     "name": "stdout",
     "output_type": "stream",
     "text": [
      "[[1 1]\n",
      " [1 2]]\n",
      "\n",
      "\n",
      "[[1 2]\n",
      " [1 2]]\n",
      "\n",
      "concatenate\n",
      "[[1 1 1 2]\n",
      " [1 2 1 2]]\n"
     ]
    }
   ],
   "source": [
    "#Crie duas bidimensionais matrizes com valores aleatórios e gere uma única matriz combinando linha a linha\n",
    "\n",
    "a1 = np.random.randint(1,3,(2,2))\n",
    "a2 = np.random.randint(1,3,(2,2))\n",
    "print(a1)\n",
    "print('\\n')\n",
    "print(a2)\n",
    "print('\\nconcatenate')\n",
    "b = np.concatenate((a1,a2), axis=1)\n",
    "print(b)\n"
   ]
  },
  {
   "cell_type": "markdown",
   "metadata": {},
   "source": [
    "## list 2\n",
    "  *  Crie um vetor nulo de tamanho 10\n",
    "  * Como encontrar o tamanho da memória de qualquer matriz\n",
    "  * Crie um vetor nulo de tamanho 10, mas o quinto valor, que é 1\n",
    "  * Crie um vetor com valores que variam de 10 a 49\n",
    "  * Inverter um vetor (o primeiro elemento se torna o último)\n",
    "  * Crie uma matriz 3x3 com valores que variam de 0 a 8\n",
    "  * Crie uma matriz de identidade 3x3\n",
    "  *  Crie uma matriz 3x3x3 com valores aleatórios\n",
    "  *  Crie uma matriz 10x10 com valores aleatórios e encontre os valores mínimo e máximo\n",
    "  * Crie um vetor aleatório de tamanho 30 e encontre o valor médio\n",
    "  *  Crie uma matriz 2D com 1 na borda e 0 dentro\n",
    "  *  Crie uma matriz 5x5 com valores 1,2,3,4 logo abaixo da diagonal\n",
    "  *  Crie uma matriz estruturada representando uma posição (x, y) e uma cor (r, g, b)\n",
    "  *  Subtrair a média de cada linha de uma matriz\n",
    "  * Como encontrar o valor mais frequente em uma matriz?\n",
    "  * Crie uma matriz a partir de um arquivo\n",
    "  * crie uma matriz com valores aletaórios e salve para um arquivo\n",
    "\n"
   ]
  },
  {
   "cell_type": "code",
   "execution_count": 126,
   "metadata": {},
   "outputs": [
    {
     "name": "stdout",
     "output_type": "stream",
     "text": [
      "[0. 0. 0. 0. 0. 0. 0. 0. 0. 0.]\n"
     ]
    }
   ],
   "source": [
    "#Crie um vetor nulo de tamanho 10\n",
    "\n",
    "vecnull = np.zeros(10)\n",
    "print(vecnull)"
   ]
  },
  {
   "cell_type": "code",
   "execution_count": null,
   "metadata": {},
   "outputs": [],
   "source": [
    "#Como encontrar o tamanho da memória de qualquer matriz\n",
    "\n"
   ]
  },
  {
   "cell_type": "code",
   "execution_count": 150,
   "metadata": {},
   "outputs": [
    {
     "name": "stdout",
     "output_type": "stream",
     "text": [
      "[0. 0. 0. 0. 0. 0. 0. 0. 0. 0.]\n",
      "[0. 0. 0. 0. 0. 0. 0. 0. 0. 1.]\n",
      "[0. 0. 0. 0. 1. 0. 0. 0. 0. 1.]\n"
     ]
    }
   ],
   "source": [
    "#Crie um vetor nulo de tamanho 10, mas o quinto valor, que é 1\n",
    "\n",
    "vecnull_1 = np.zeros(10)\n",
    "print(vecnull1)\n",
    "vecnull_1[-1] = 1\n",
    "print(vecnull_1)\n",
    "\n",
    "#Crie um vetor nulo de tamanho 10, mas o quinto valor, que é 1\n",
    "vecnull_1[4] = 1\n",
    "print(vecnull_1)\n",
    "\n",
    "\n"
   ]
  },
  {
   "cell_type": "code",
   "execution_count": 155,
   "metadata": {},
   "outputs": [
    {
     "name": "stdout",
     "output_type": "stream",
     "text": [
      "[ 1  1  8  3  1  8  4 11  2  8  9 17 11  4 13  4 10  2 27 19  3  9 10 23\n",
      " 18  2  0 25 21 22  5 18 13 25 29 30 19 39  8]\n"
     ]
    }
   ],
   "source": [
    "#Crie um vetor com valores que variam de 10 a 49\n",
    "val = np.random.randint(range(10,49))\n",
    "print(val)"
   ]
  },
  {
   "cell_type": "code",
   "execution_count": 158,
   "metadata": {},
   "outputs": [
    {
     "name": "stdout",
     "output_type": "stream",
     "text": [
      "[ 3  9  7  8  3  0  6  2  0  4 19 13  0 22  3 22 10  4 25 22  6 19 12  1]\n",
      "[ 1 12 19  6 22 25  4 10 22  3 22  0 13 19  4  0  2  6  0  3  8  7  9  3]\n"
     ]
    }
   ],
   "source": [
    "#Inverter um vetor (o primeiro elemento se torna o último)\n",
    "verse = np.random.randint(range(10,34))\n",
    "print(verse)\n",
    "print(verse[::-1])"
   ]
  },
  {
   "cell_type": "code",
   "execution_count": 159,
   "metadata": {},
   "outputs": [
    {
     "name": "stdout",
     "output_type": "stream",
     "text": [
      "[[2 3 0]\n",
      " [2 1 4]\n",
      " [4 4 4]]\n"
     ]
    }
   ],
   "source": [
    "#Crie uma matriz 3x3 com valores que variam de 0 a 8\n",
    "mat3 = np.random.randint(0,8,(3,3))\n",
    "print(mat3)"
   ]
  },
  {
   "cell_type": "code",
   "execution_count": 161,
   "metadata": {},
   "outputs": [
    {
     "name": "stdout",
     "output_type": "stream",
     "text": [
      "[[1. 0. 0.]\n",
      " [0. 1. 0.]\n",
      " [0. 0. 1.]]\n"
     ]
    }
   ],
   "source": [
    "#Crie uma matriz de identidade 3x3\n",
    "id3 = np.identity(3)\n",
    "print(id3)"
   ]
  },
  {
   "cell_type": "code",
   "execution_count": 163,
   "metadata": {},
   "outputs": [
    {
     "name": "stdout",
     "output_type": "stream",
     "text": [
      "[[[21 31 18]\n",
      "  [43 23  1]\n",
      "  [ 0 21  8]]\n",
      "\n",
      " [[ 8 43  4]\n",
      "  [40 38 30]\n",
      "  [32 41 49]]\n",
      "\n",
      " [[32 48 23]\n",
      "  [14  1  9]\n",
      "  [42 41 47]]]\n"
     ]
    }
   ],
   "source": [
    "#Crie uma matriz 3x3x3 com valores aleatórios\n",
    "\n",
    "ale3x3x3 = np.random.randint(0,50,(3,3,3))\n",
    "\n",
    "print(ale3x3x3)"
   ]
  },
  {
   "cell_type": "code",
   "execution_count": 167,
   "metadata": {},
   "outputs": [
    {
     "name": "stdout",
     "output_type": "stream",
     "text": [
      "[[4 6 4 6 5 5 4 7 7 6]\n",
      " [6 6 4 4 7 5 5 4 4 7]\n",
      " [5 6 7 4 5 7 7 7 4 5]\n",
      " [6 5 7 4 7 4 6 5 6 7]\n",
      " [4 5 7 5 7 4 7 7 4 7]\n",
      " [4 4 5 4 7 4 6 5 6 5]\n",
      " [6 4 4 7 4 6 7 6 7 5]\n",
      " [5 4 5 4 6 7 4 4 6 5]\n",
      " [7 6 6 5 5 6 6 5 4 4]\n",
      " [6 4 5 7 6 7 4 7 6 7]]\n",
      "7 max\n",
      "4 min\n"
     ]
    }
   ],
   "source": [
    "#Crie uma matriz 10x10 com valores aleatórios e encontre os valores mínimo e máximo\n",
    "\n",
    "ale10x10 = np.random.randint(4,8,(10,10))\n",
    "print(ale10x10)\n",
    "maxl = ale10x10.max()\n",
    "minl = ale10x10.min()\n",
    "print(maxl, 'max')\n",
    "print(minl, 'min')"
   ]
  },
  {
   "cell_type": "code",
   "execution_count": 179,
   "metadata": {},
   "outputs": [
    {
     "name": "stdout",
     "output_type": "stream",
     "text": [
      "[2 2 2 2 1 2 1 2 1 1 2 1 2 2 2 2 2 1 1 1 1 1 1 1 2 2 1 2 2 1]\n",
      "1.5333333333333334\n"
     ]
    }
   ],
   "source": [
    "#Crie um vetor aleatório de tamanho 30 e encontre o valor médio\n",
    "med = np.random.randint(1,3,(30))\n",
    "print(med)\n",
    "print(med.mean())"
   ]
  },
  {
   "cell_type": "code",
   "execution_count": 250,
   "metadata": {},
   "outputs": [
    {
     "name": "stdout",
     "output_type": "stream",
     "text": [
      "[[1 1 1 1 1]\n",
      " [1 0 0 0 1]\n",
      " [1 0 0 0 1]\n",
      " [1 0 0 0 1]\n",
      " [1 1 1 1 1]]\n",
      "\n",
      "\n",
      "[[1 1 1 1 1]\n",
      " [1 0 0 0 1]\n",
      " [1 0 0 0 1]\n",
      " [1 0 0 0 1]\n",
      " [1 1 1 1 1]]\n"
     ]
    }
   ],
   "source": [
    "#Crie uma matriz 2D com 1 na borda e 0 dentro\n",
    "# Creates a list containing 5 lists, each of 8 items, all set to 0\n",
    "cols, rows = 5, 5;\n",
    "z = np.array([[1 for x in range(cols)] for y in range(rows)])\n",
    "\n",
    "z[1:-1,1:-1] = 0\n",
    "print(z)\n",
    "d = np.ones((5,5), dtype=int)\n",
    "\n",
    "print('\\n')\n",
    "d[1:-1,1:-1] = 0\n",
    "print(d)"
   ]
  },
  {
   "cell_type": "code",
   "execution_count": 276,
   "metadata": {},
   "outputs": [
    {
     "name": "stdout",
     "output_type": "stream",
     "text": [
      "[[1. 0. 0. 0. 0.]\n",
      " [1. 1. 0. 0. 0.]\n",
      " [0. 2. 1. 0. 0.]\n",
      " [0. 0. 3. 1. 0.]\n",
      " [0. 0. 0. 4. 1.]]\n"
     ]
    }
   ],
   "source": [
    "#Crie uma matriz 5x5 com valores 1,2,3,4 logo abaixo da diagonal\n",
    "n = np.identity(5)\n",
    "rng = np.arange(1,5)\n",
    "n[rng, rng-1] = rng\n",
    "print(n)"
   ]
  },
  {
   "cell_type": "code",
   "execution_count": 6,
   "metadata": {},
   "outputs": [
    {
     "name": "stdout",
     "output_type": "stream",
     "text": [
      "[[0.         1.         0.         0.         0.        ]\n",
      " [0.         0.         1.41421356 0.         0.        ]\n",
      " [0.         0.         0.         1.73205081 0.        ]\n",
      " [0.         0.         0.         0.         2.        ]\n",
      " [0.         0.         0.         0.         0.        ]]\n"
     ]
    }
   ],
   "source": [
    "#Crie uma matriz estruturada representando uma posição (x, y) e uma cor (r, g, b)\n",
    "z = np.zeros((5,5))\n",
    "rng = np.arange(4)\n",
    "z[rng, rng+1] = np.sqrt(rng+1)\n",
    "print(z)"
   ]
  },
  {
   "cell_type": "code",
   "execution_count": 15,
   "metadata": {},
   "outputs": [
    {
     "name": "stdout",
     "output_type": "stream",
     "text": [
      "[[1 1]\n",
      " [1 2]]\n"
     ]
    },
    {
     "data": {
      "text/plain": [
       "array([[ 0. ,  0. ],\n",
       "       [-0.5,  0.5]])"
      ]
     },
     "execution_count": 15,
     "metadata": {},
     "output_type": "execute_result"
    }
   ],
   "source": [
    "#Subtrair a média de cada linha de uma matriz\n",
    "med = np.random.randint(1,3,(2,2))\n",
    "print(med)\n",
    "m1 = med - med.mean(axis=1, keepdims=True) \n",
    "m1"
   ]
  },
  {
   "cell_type": "code",
   "execution_count": 33,
   "metadata": {},
   "outputs": [
    {
     "name": "stdout",
     "output_type": "stream",
     "text": [
      "[[1 8 9]\n",
      " [6 8 9]\n",
      " [6 1 2]]\n",
      "[1, 8, 9, 6, 8, 9, 6, 1, 2]\n",
      "[[1], [6], [8], [9]]\n"
     ]
    }
   ],
   "source": [
    "#Como encontrar o valor mais frequente em uma matriz?\n",
    "import numpy as np\n",
    "\n",
    "matrix = np.random.randint(1,10,(3,3))\n",
    "print(matrix)\n",
    "vec = []\n",
    "for i in matrix:\n",
    "    for j in i:\n",
    "        vec.append(j)\n",
    "print(vec)\n",
    "a = np.bincount(vec)\n",
    "modes = np.argwhere(a == np.amax(a))\n",
    "#mode = np.argmax(np.bincount(vec))\n",
    "print(modes.tolist())"
   ]
  },
  {
   "cell_type": "code",
   "execution_count": 231,
   "metadata": {},
   "outputs": [
    {
     "name": "stdout",
     "output_type": "stream",
     "text": [
      "[[9 2 6]\n",
      " [4 2 8]\n",
      " [3 6 9]]\n",
      "ModeResult(mode=array([2]), count=array([2]))\n"
     ]
    }
   ],
   "source": [
    "import numpy as np\n",
    "from scipy import stats\n",
    "\n",
    "a = np.array([[1, 3, 4, 2, 2, 7],\n",
    "              [5, 2, 2, 1, 4, 1],\n",
    "              [3, 3, 2, 2, 1, 1]])\n",
    "b = np.random.randint(1,10,(3,3))\n",
    "print(b)\n",
    "m = stats.mode(b, axis=None)\n",
    "print(m)"
   ]
  },
  {
   "cell_type": "code",
   "execution_count": 72,
   "metadata": {},
   "outputs": [
    {
     "name": "stdout",
     "output_type": "stream",
     "text": [
      "[[5. 9. 7.]\n",
      " [5. 8. 1.]\n",
      " [4. 1. 5.]]\n"
     ]
    }
   ],
   "source": [
    "#Crie uma matriz a partir de um arquivo\n",
    "s = []\n",
    "f = open('matrix_to_file.txt')\n",
    "for i in f:\n",
    "    s.append(i.strip().split())\n",
    "s= np.asarray(s).astype(np.float)\n",
    "print(s)"
   ]
  },
  {
   "cell_type": "code",
   "execution_count": 62,
   "metadata": {},
   "outputs": [
    {
     "name": "stdout",
     "output_type": "stream",
     "text": [
      "[[5 9 7]\n",
      " [5 8 1]\n",
      " [4 1 5]]\n",
      "5.0 9.0 7.0\r\n",
      "5.0 8.0 1.0\r\n",
      "4.0 1.0 5.0\r\n"
     ]
    }
   ],
   "source": [
    "#crie uma matriz com valores aletaórios e salve para um arquivo\n",
    "filematrix = np.random.randint(1,10,(3,3))\n",
    "print(filematrix)\n",
    "np.savetxt('matrix_to_file.txt',filematrix, fmt='%.1f')\n",
    "!cat matrix_to_file.txt"
   ]
  },
  {
   "cell_type": "code",
   "execution_count": 17,
   "metadata": {},
   "outputs": [
    {
     "name": "stdout",
     "output_type": "stream",
     "text": [
      "[[-1 -1 -1 -1 -1]\n",
      " [-1 -1 -1 -1 -1]\n",
      " [-1 -1 -1 -1 -1]\n",
      " [-1 -1 -1 -1 -1]\n",
      " [-1 -1 -1 -1 -1]]\n"
     ]
    }
   ],
   "source": [
    "from scipy.signal import convolve2d\n",
    "\n",
    "a = (convolve2d(np.ones((5,5)), np.ones((3,3)),'same')==0)+-1\n",
    "\n",
    "print(a)"
   ]
  },
  {
   "cell_type": "code",
   "execution_count": 20,
   "metadata": {},
   "outputs": [
    {
     "name": "stdout",
     "output_type": "stream",
     "text": [
      "[[2 1 5]\n",
      " [6 6 6]\n",
      " [1 7 3]]\n",
      "[[2, 1, 5], [6, 6, 6], [1, 7, 3]]\n"
     ]
    }
   ],
   "source": [
    "matrix = np.random.randint(1,10,(3,3))\n",
    "vec = [[i for i in j] for j in matrix]\n",
    "print(matrix)\n",
    "print(vec)\n",
    "\n",
    "#[entry for tag in tags for entry in entries if tag in entry]"
   ]
  }
 ],
 "metadata": {
  "kernelspec": {
   "display_name": "Python [conda env:numpy-env] *",
   "language": "python",
   "name": "conda-env-numpy-env-py"
  },
  "language_info": {
   "codemirror_mode": {
    "name": "ipython",
    "version": 3
   },
   "file_extension": ".py",
   "mimetype": "text/x-python",
   "name": "python",
   "nbconvert_exporter": "python",
   "pygments_lexer": "ipython3",
   "version": "3.7.3"
  }
 },
 "nbformat": 4,
 "nbformat_minor": 2
}
