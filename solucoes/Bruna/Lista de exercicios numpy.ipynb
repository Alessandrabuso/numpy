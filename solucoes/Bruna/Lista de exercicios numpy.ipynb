{
 "cells": [
  {
   "cell_type": "markdown",
   "metadata": {},
   "source": [
    "# Numpy"
   ]
  },
  {
   "cell_type": "markdown",
   "metadata": {},
   "source": [
    "Numpy Arange \n",
    "\n",
    "http://pyscience-brasil.wikidot.com/docitem:numpy-arange\n",
    "\n",
    "range([start,] stop, [step,] dtype=None)\n",
    "\n",
    "A função arange cria um arranjo contendo uma seqüência de valores especificados em um intervalo com início e fim dados, espaçados de maneira uniforme. Os dados podem ter qualquer tipo numérico, especificado pelo argumento dtype. Esta função vai devolver um arranjo unidimensional que pode ser usado em qualquer operação que exija arranjos.\n",
    "\n",
    "start : Este argumento é opcional. Se ele for omitido, admite-se que o início do intervalo é 0. Se for especificado, o primeiro elemento do arranjo terá esse valor. \n",
    "\n",
    "stop : Indica o final do intervalo. Como é característica da linguagem, este último valor não vai fazer parte do arranjo retornado. É importante notar essa distinção. Se é necessário que esse valor seja parte do intervalo, utilize a função numpy-linspace .    \n",
    "\n",
    "step : Este argumento indica o intervalo entre cada elemento do arranjo. Pode ser um valor em ponto flutuante. Este argumento pode ser omitido, e nesse caso, admite-se o intervalo entre os elementos iguais a um.\n",
    "\n",
    "dtype :   Indica o tipo numérico dos elementos do arranjo resultante. Se for omitido, os dados terão o tipo mais simples possível para representar os números.     \n",
    "\n",
    "Exemplos:    \n",
    "\n",
    "* Array com quantidade de elementos pre definidos\n",
    "> arange(5)    \n",
    "array([0, 1, 2, 3, 4])     \n",
    "\n",
    "* Array com dados float\n",
    "> arange(5.)    \n",
    "array([ 0.,  1.,  2.,  3.,  4.])    \n",
    "\n",
    "* Array com dados float  (outra opcao)\n",
    "> arange(5, dtype=float)\n",
    "array([ 0.,  1.,  2.,  3.,  4.])    \n",
    "\n",
    "* Array com Incremento\n",
    ">  arange(-5, 5, 0.5)\n",
    "array([-5. , -4.5, -4. , -3.5, -3. , -2.5, -2. , -1.5, -1. , -0.5,  0. ,\n",
    "        0.5,  1. ,  1.5,  2. ,  2.5,  3. ,  3.5,  4. ,  4.5])   \n",
    "\n",
    "* Numeros complexos:   \n",
    "> arange(1j, 5j)\n",
    "array([], dtype=complex128)\n"
   ]
  },
  {
   "cell_type": "markdown",
   "metadata": {},
   "source": [
    "## Exercicios Propostos"
   ]
  },
  {
   "cell_type": "markdown",
   "metadata": {},
   "source": [
    "* Crie um array com 10 elementos usando a função arange"
   ]
  },
  {
   "cell_type": "code",
   "execution_count": 5,
   "metadata": {},
   "outputs": [
    {
     "name": "stdout",
     "output_type": "stream",
     "text": [
      "arange:  [0 1 2 3 4 5 6 7 8 9]\n"
     ]
    }
   ],
   "source": [
    "import numpy as np\n",
    "\n",
    "n = np.arange(10) \n",
    "print(\"arange: \",n)"
   ]
  },
  {
   "cell_type": "markdown",
   "metadata": {},
   "source": [
    "\n",
    "\n",
    "* Transforme esse array de 1D (1x10) para 2D (2x5) usando a função reshape\n",
    "\n"
   ]
  },
  {
   "cell_type": "code",
   "execution_count": 7,
   "metadata": {},
   "outputs": [
    {
     "name": "stdout",
     "output_type": "stream",
     "text": [
      "reshape [[0 1 2 3 4]\n",
      " [5 6 7 8 9]]\n"
     ]
    }
   ],
   "source": [
    "a = np.arange(10).reshape(2,5) \n",
    "print(\"reshape\",a)"
   ]
  },
  {
   "cell_type": "markdown",
   "metadata": {},
   "source": [
    "* Crie duas matrizes bidimensionais com valores aleatórios"
   ]
  },
  {
   "cell_type": "code",
   "execution_count": 23,
   "metadata": {},
   "outputs": [
    {
     "name": "stdout",
     "output_type": "stream",
     "text": [
      "matriz 1: [[0.21620474 0.26500783 0.87810907 0.85433742]\n",
      " [0.42009362 0.88680999 0.53402763 0.36179946]\n",
      " [0.95381161 0.01141248 0.73833848 0.94412244]\n",
      " [0.45809713 0.6319711  0.90672286 0.45271639]]\n",
      "matriz 2:  [[0.79494339 0.17231017 0.06763452 0.63663091]\n",
      " [0.45821223 0.85924315 0.42130242 0.43049556]\n",
      " [0.07016542 0.65501131 0.26650254 0.87808633]\n",
      " [0.27690429 0.90851211 0.25292461 0.17488865]]\n"
     ]
    }
   ],
   "source": [
    "matriz_2da=np.random.random((4,4))\n",
    "matriz_2db=np.random.random((4,4))\n",
    "print(\"matriz 1:\", matriz_2da)\n",
    "print(\"matriz 2: \", matriz_2db)"
   ]
  },
  {
   "cell_type": "markdown",
   "metadata": {},
   "source": [
    "* Calcule a transposta de cada matriz"
   ]
  },
  {
   "cell_type": "code",
   "execution_count": 41,
   "metadata": {},
   "outputs": [
    {
     "name": "stdout",
     "output_type": "stream",
     "text": [
      "[[  0  15  30  45  60  75  90 105 120 135 150 165 180 195 210]\n",
      " [  1  16  31  46  61  76  91 106 121 136 151 166 181 196 211]\n",
      " [  2  17  32  47  62  77  92 107 122 137 152 167 182 197 212]\n",
      " [  3  18  33  48  63  78  93 108 123 138 153 168 183 198 213]\n",
      " [  4  19  34  49  64  79  94 109 124 139 154 169 184 199 214]\n",
      " [  5  20  35  50  65  80  95 110 125 140 155 170 185 200 215]\n",
      " [  6  21  36  51  66  81  96 111 126 141 156 171 186 201 216]\n",
      " [  7  22  37  52  67  82  97 112 127 142 157 172 187 202 217]\n",
      " [  8  23  38  53  68  83  98 113 128 143 158 173 188 203 218]\n",
      " [  9  24  39  54  69  84  99 114 129 144 159 174 189 204 219]\n",
      " [ 10  25  40  55  70  85 100 115 130 145 160 175 190 205 220]\n",
      " [ 11  26  41  56  71  86 101 116 131 146 161 176 191 206 221]\n",
      " [ 12  27  42  57  72  87 102 117 132 147 162 177 192 207 222]\n",
      " [ 13  28  43  58  73  88 103 118 133 148 163 178 193 208 223]\n",
      " [ 14  29  44  59  74  89 104 119 134 149 164 179 194 209 224]]\n"
     ]
    }
   ],
   "source": [
    "matriz = np.arange(225).reshape(15,15).transpose()\n",
    "\n",
    "print(matriz)"
   ]
  },
  {
   "cell_type": "markdown",
   "metadata": {},
   "source": [
    "* multiplique as duas matrizes"
   ]
  },
  {
   "cell_type": "code",
   "execution_count": 82,
   "metadata": {},
   "outputs": [
    {
     "name": "stdout",
     "output_type": "stream",
     "text": [
      "[[0. 1.]\n",
      " [2. 3.]]\n"
     ]
    }
   ],
   "source": [
    "#a = np.identity(2)\n",
    "\n",
    "#b = np.matrix(\"0 1; 2 3\")\n",
    "\n",
    "print(np.dot(np.identity(2),np.matrix(np.arange(4).reshape(2,2))))"
   ]
  },
  {
   "cell_type": "markdown",
   "metadata": {},
   "source": [
    "* Salve as matrizes de entrada e a de saída em arquivos. Qual o tamanho dos arquivos gerados?"
   ]
  },
  {
   "cell_type": "code",
   "execution_count": 92,
   "metadata": {},
   "outputs": [],
   "source": [
    "e1 = np.identity(2)\n",
    "e2 = np.matrix(np.arange(4).reshape(2,2))\n",
    "np.savetxt('test_txt',e1)  \n",
    "np.savetxt('test_txt',e2)  \n",
    "\n",
    "dot_res = np.dot(np.identity(2),np.matrix(np.arange(4).reshape(2,2)))\n",
    "\n",
    "np.save('test',dot_res)  #extensao npy\n",
    "np.savetxt('test.txt',dot_res)  #extensao txt\n",
    "np.savez('testH',dot_res) #zip da extensao npy\n",
    "np.savez_compressed('testH-c',dot_res)\n",
    "\n"
   ]
  },
  {
   "cell_type": "markdown",
   "metadata": {},
   "source": [
    "* Crie duas bidimensionais matrizes com valores aleatórios e gere uma única matriz combinando linha a linha"
   ]
  },
  {
   "cell_type": "code",
   "execution_count": 26,
   "metadata": {},
   "outputs": [
    {
     "name": "stdout",
     "output_type": "stream",
     "text": [
      "A multiplicacao cumulativa entre duas matrizes eh: \n",
      " \n",
      " [4.15435413e-01 3.70532397e-01 2.83454110e-01 3.89924367e-02\n",
      " 3.30208332e-02 9.32234177e-03 6.66012891e-03 4.08931022e-03\n",
      " 1.03626643e-04 3.31416283e-05 5.41450056e-07 4.57191847e-08\n",
      " 4.39900622e-09 3.55863565e-09 2.21918994e-09 5.26971254e-10\n",
      " 1.27884907e-10 5.69481767e-11]\n"
     ]
    }
   ],
   "source": [
    "import numpy as np\n",
    "\n",
    "\n",
    "m1 = np.random.rand(2,3,3)\n",
    "\n",
    "cum_prod = np.cumprod(m1)\n",
    "\n",
    "print(\"A multiplicacao cumulativa entre duas matrizes eh: \\n \\n\", cum_prod)"
   ]
  }
 ],
 "metadata": {
  "kernelspec": {
   "display_name": "Python 3",
   "language": "python",
   "name": "python3"
  },
  "language_info": {
   "codemirror_mode": {
    "name": "ipython",
    "version": 3
   },
   "file_extension": ".py",
   "mimetype": "text/x-python",
   "name": "python",
   "nbconvert_exporter": "python",
   "pygments_lexer": "ipython3",
   "version": "3.7.3"
  }
 },
 "nbformat": 4,
 "nbformat_minor": 2
}
