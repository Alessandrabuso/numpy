{
 "cells": [
  {
   "cell_type": "markdown",
   "metadata": {},
   "source": [
    "### Exercícios Numpy\n",
    "* Crie um vetor nulo de tamanho 10\n",
    "* Como encontrar o tamanho da memória de qualquer matriz\n",
    "* Crie um vetor nulo de tamanho 10, mas o quinto valor, que é 1\n",
    "* Crie um vetor com valores que variam de 10 a 49\n",
    "* Inverter um vetor (o primeiro elemento se torna o último)\n",
    "* Crie uma matriz 3x3 com valores que variam de 0 a 8\n",
    "* Crie uma matriz de identidade 3x3\n",
    "* Crie uma matriz 3x3x3 com valores aleatórios\n",
    "* Crie uma matriz 10x10 com valores aleatórios e encontre os valores mínimo e máximo\n",
    "* Crie um vetor aleatório de tamanho 30 e encontre o valor médio\n",
    "* Crie uma matriz 2D com 1 na borda e 0 dentro\n",
    "* Crie uma matriz 5x5 com valores 1,2,3,4 logo abaixo da diagonal\n",
    "* Crie uma matriz estruturada representando uma posição (x, y) e uma cor (r, g, b)\n",
    "* Subtrair a média de cada linha de uma matriz\n",
    "* Como encontrar o valor mais frequente em uma matriz?\n",
    "* Crie uma matriz a partir de um arquivo\n",
    "* Crie uma matriz com valores aletaórios e salve para um arquivo"
   ]
  },
  {
   "cell_type": "code",
   "execution_count": 3,
   "metadata": {},
   "outputs": [],
   "source": [
    "import numpy as np"
   ]
  },
  {
   "cell_type": "code",
   "execution_count": 3,
   "metadata": {},
   "outputs": [
    {
     "name": "stdout",
     "output_type": "stream",
     "text": [
      "[0. 0. 0. 0. 0. 0. 0. 0. 0. 0.]\n"
     ]
    }
   ],
   "source": [
    "#1. crie um vetor nulo de tamanho 10\n",
    "n = np.zeros(10)\n",
    "print(n)"
   ]
  },
  {
   "cell_type": "code",
   "execution_count": 4,
   "metadata": {},
   "outputs": [],
   "source": [
    "#2. como encontrar o tamanho da memória de qualquer matriz"
   ]
  },
  {
   "cell_type": "code",
   "execution_count": 5,
   "metadata": {},
   "outputs": [
    {
     "name": "stdout",
     "output_type": "stream",
     "text": [
      "[0. 0. 0. 0. 1. 0. 0. 0. 0. 0.]\n"
     ]
    }
   ],
   "source": [
    "#3. crie um vetor nulo de tamanho 10, mas o quinto valor, que é 1\n",
    "n = np.zeros(10)\n",
    "n[4] = 1\n",
    "print(n)"
   ]
  },
  {
   "cell_type": "code",
   "execution_count": 7,
   "metadata": {},
   "outputs": [
    {
     "name": "stdout",
     "output_type": "stream",
     "text": [
      "[10 11 12 13 14 15 16 17 18 19 20 21 22 23 24 25 26 27 28 29 30 31 32 33\n",
      " 34 35 36 37 38 39 40 41 42 43 44 45 46 47 48 49]\n"
     ]
    }
   ],
   "source": [
    "#4. crie um vetor com valores que variam de 10 a 49\n",
    "n = np.arange(10,50)\n",
    "print(n)"
   ]
  },
  {
   "cell_type": "code",
   "execution_count": 13,
   "metadata": {},
   "outputs": [
    {
     "name": "stdout",
     "output_type": "stream",
     "text": [
      "[0 1 2 3 4 5 6 7 8 9]\n",
      "[9 8 7 6 5 4 3 2 1 0]\n"
     ]
    }
   ],
   "source": [
    "#5. inverter um vetor (o primeiro elemento se torna o último)\n",
    "m = np.arange(10)\n",
    "n = np.flip(np.arange(10), 0)\n",
    "print(m)\n",
    "print(n)"
   ]
  },
  {
   "cell_type": "code",
   "execution_count": 30,
   "metadata": {},
   "outputs": [
    {
     "name": "stdout",
     "output_type": "stream",
     "text": [
      "8\n",
      "[[0 1 2]\n",
      " [3 4 5]\n",
      " [6 7 8]]\n"
     ]
    }
   ],
   "source": [
    "#6. crie uma matriz 3x3 com valores que variam de 0 a 8\n",
    "n = np.arange(9).reshape(3,3)\n",
    "print(n)"
   ]
  },
  {
   "cell_type": "code",
   "execution_count": 18,
   "metadata": {},
   "outputs": [
    {
     "name": "stdout",
     "output_type": "stream",
     "text": [
      "[[1. 0. 0.]\n",
      " [0. 1. 0.]\n",
      " [0. 0. 1.]]\n"
     ]
    }
   ],
   "source": [
    "# 7. crie uma matriz de identidade 3x3\n",
    "n = np.eye(3)\n",
    "print(n)"
   ]
  },
  {
   "cell_type": "code",
   "execution_count": 22,
   "metadata": {},
   "outputs": [
    {
     "name": "stdout",
     "output_type": "stream",
     "text": [
      "[[[0.96813591 0.19829938 0.84917003]\n",
      "  [0.72189402 0.31083023 0.34577843]\n",
      "  [0.65364023 0.84474398 0.83960724]]\n",
      "\n",
      " [[0.68814586 0.26732452 0.97529904]\n",
      "  [0.59353565 0.52356139 0.31785916]\n",
      "  [0.48862378 0.29983377 0.14517229]]\n",
      "\n",
      " [[0.72242942 0.84042654 0.83397337]\n",
      "  [0.55764711 0.67502919 0.51333879]\n",
      "  [0.60302996 0.28709633 0.37531046]]]\n"
     ]
    }
   ],
   "source": [
    "# 17. crie uma matriz 3x3x3 com valores aleatórios\n",
    "n = np.random.rand(27).reshape(3,3,3)\n",
    "print(n)"
   ]
  },
  {
   "cell_type": "code",
   "execution_count": 6,
   "metadata": {},
   "outputs": [
    {
     "name": "stdout",
     "output_type": "stream",
     "text": [
      "0.005156194260415803\n",
      "0.9981821652103645\n"
     ]
    }
   ],
   "source": [
    "#9. crie uma matriz 10x10 com valores aleatórios e encontre os valores mínimo e máximo\n",
    "n = np.random.rand(100).reshape(10,10)\n",
    "print(np.amin(n))\n",
    "print(np.amax(n))"
   ]
  },
  {
   "cell_type": "code",
   "execution_count": 44,
   "metadata": {},
   "outputs": [
    {
     "name": "stdout",
     "output_type": "stream",
     "text": [
      "O vetor é: [ 0  1  2  3  4  5  6  7  8  9 10 11 12 13 14 15 16 17 18 19 20 21 22 23\n",
      " 24 25 26 27 28 29]\n",
      "A média do vetor acima é 14.5\n"
     ]
    }
   ],
   "source": [
    "#10. crie um vetor aleatório de tamanho 30 e encontre o valor médio\n",
    "n = np.arange(30)\n",
    "print('O vetor é:', n)\n",
    "print('A média do vetor acima é', np.mean(n))"
   ]
  },
  {
   "cell_type": "code",
   "execution_count": 67,
   "metadata": {},
   "outputs": [
    {
     "name": "stdout",
     "output_type": "stream",
     "text": [
      "[[1. 1. 1. 1.]\n",
      " [1. 0. 0. 1.]\n",
      " [1. 0. 0. 1.]\n",
      " [1. 1. 1. 1.]]\n",
      "\n"
     ]
    }
   ],
   "source": [
    "#11. crie uma matriz 2D com 1 na borda e 0 dentro\n",
    "n = np.ones((4,4))\n",
    "n[1:-1,1:-1] = 0\n",
    "print(n)\n",
    "print('')"
   ]
  },
  {
   "cell_type": "code",
   "execution_count": 22,
   "metadata": {},
   "outputs": [
    {
     "name": "stdout",
     "output_type": "stream",
     "text": [
      "[[0 0 0 0 0]\n",
      " [1 0 0 0 0]\n",
      " [0 2 0 0 0]\n",
      " [0 0 3 0 0]\n",
      " [0 0 0 4 0]]\n"
     ]
    }
   ],
   "source": [
    "#12. crie uma matriz 5x5 com valores 1,2,3,4 logo abaixo da diagonal\n",
    "n = np.diag(np.arange(4)+1,k=-1)\n",
    "print(n)"
   ]
  },
  {
   "cell_type": "code",
   "execution_count": 100,
   "metadata": {},
   "outputs": [],
   "source": [
    "#13. crie uma matriz estruturada representando uma posição (x, y) e uma cor (r, g, b)\n",
    "def rgb_matrix(x,y):\n",
    "    return"
   ]
  },
  {
   "cell_type": "code",
   "execution_count": 16,
   "metadata": {},
   "outputs": [
    {
     "name": "stdout",
     "output_type": "stream",
     "text": [
      "[[0 7]\n",
      " [1 4]]\n",
      "\n",
      "[[-3.5  3.5]\n",
      " [-1.5  1.5]]\n"
     ]
    }
   ],
   "source": [
    "#14. subtrair a média de cada linha de uma matriz\n",
    "n = np.random.randint(10, size=(2,2))\n",
    "print(n)\n",
    "print('')\n",
    "\n",
    "#numpy.mean(a, axis=None, dtype=None, out=None, keepdims=<no value>)\n",
    "#Axis or axes along which the means are computed. The default is to compute the mean of the flattened array.\n",
    "#If this is set to True, the axes which are reduced are left in the result as dimensions with size one. With this option, the result will broadcast correctly against the input array.\n",
    "m = n - n.mean(axis=1, keepdims=True)\n",
    "print(m)\n"
   ]
  },
  {
   "cell_type": "code",
   "execution_count": 52,
   "metadata": {},
   "outputs": [
    {
     "name": "stdout",
     "output_type": "stream",
     "text": [
      "matriz:\n",
      "[[8 6 4 5 9]\n",
      " [6 5 3 9 7]\n",
      " [1 8 8 4 9]\n",
      " [6 2 4 9 1]\n",
      " [6 8 5 4 7]]\n",
      "\n",
      "lista:\n",
      "[8, 6, 4, 5, 9, 6, 5, 3, 9, 7, 1, 8, 8, 4, 9, 6, 2, 4, 9, 1, 6, 8, 5, 4, 7]\n",
      "\n",
      "np.bincount:\n",
      "[0, 2, 1, 1, 4, 3, 4, 2, 4, 4]\n",
      "4\n",
      "[[4]\n",
      " [6]\n",
      " [8]\n",
      " [9]]\n"
     ]
    }
   ],
   "source": [
    "#15. como encontrar o valor mais frequente em uma matriz?\n",
    "n = np.random.randint(1, 10, (5,5))\n",
    "print('matriz:')\n",
    "print(n)\n",
    "print('')\n",
    "\n",
    "lista = []\n",
    "for i in n:\n",
    "    for j in i:\n",
    "        lista.append(j)\n",
    "\n",
    "print('lista:')        \n",
    "print(lista)\n",
    "print('')\n",
    "print('np.bincount:')\n",
    "nc = np.bincount(lista)\n",
    "print(list(nc))\n",
    "\n",
    "modas = np.argwhere(np.bincount(lista) == np.amax(np.bincount(lista)))\n",
    "\n",
    "print(np.argmax(np.bincount(lista)))\n",
    "\n",
    "print(modas)"
   ]
  },
  {
   "cell_type": "code",
   "execution_count": 40,
   "metadata": {},
   "outputs": [
    {
     "name": "stdout",
     "output_type": "stream",
     "text": [
      "[[3 4 3]\n",
      " [8 2 7]\n",
      " [6 9 7]]\n",
      "ModeResult(mode=array([3]), count=array([2]))\n"
     ]
    }
   ],
   "source": [
    "#15. como encontrar o valor mais frequente em uma matriz?\n",
    "#fazendo uso do scipy\n",
    "from scipy import stats\n",
    "n = np.random.randint(1, 10, (3,3))\n",
    "print(n)\n",
    "nc=stats.mode(n, axis=None)\n",
    "print(nc)"
   ]
  },
  {
   "cell_type": "code",
   "execution_count": 26,
   "metadata": {},
   "outputs": [
    {
     "name": "stdout",
     "output_type": "stream",
     "text": [
      "[['1', '5', '8'], ['4', '5', '1'], ['8', '5', '8']]\n",
      "\n",
      "[[1 5 8]\n",
      " [4 5 1]\n",
      " [8 5 8]]\n"
     ]
    }
   ],
   "source": [
    "#16. crie uma matriz a partir de um arquivo\n",
    "#f = open('matrix16.txt', 'w')\n",
    "f = open('/home/cavalcante87/Documents/fiephub/matrix16.txt', 'r')\n",
    "\n",
    "lista = []\n",
    "for i in f:\n",
    "    lista.append(i.strip().split())\n",
    "print(lista)\n",
    "\n",
    "nova_lista = np.asarray(lista).astype(np.int)\n",
    "\n",
    "print('')\n",
    "\n",
    "print(nova_lista)"
   ]
  },
  {
   "cell_type": "code",
   "execution_count": 21,
   "metadata": {},
   "outputs": [
    {
     "name": "stdout",
     "output_type": "stream",
     "text": [
      "1 5 8\r\n",
      "4 5 1\r\n",
      "8 5 8\r\n"
     ]
    }
   ],
   "source": [
    "#17. crie uma matriz com valores aleatórios e salve para um arquivo\n",
    "n = np.random.randint(1,10,(3,3))\n",
    "np.savetxt('/home/cavalcante87/Documents/fiephub/matrix16.txt', n, fmt='%.0f')\n",
    "!cat '/home/cavalcante87/Documents/fiephub/matrix16.txt'"
   ]
  },
  {
   "cell_type": "code",
   "execution_count": null,
   "metadata": {},
   "outputs": [],
   "source": []
  }
 ],
 "metadata": {
  "kernelspec": {
   "display_name": "Python 3",
   "language": "python",
   "name": "python3"
  },
  "language_info": {
   "codemirror_mode": {
    "name": "ipython",
    "version": 3
   },
   "file_extension": ".py",
   "mimetype": "text/x-python",
   "name": "python",
   "nbconvert_exporter": "python",
   "pygments_lexer": "ipython3",
   "version": "3.7.4"
  }
 },
 "nbformat": 4,
 "nbformat_minor": 2
}
